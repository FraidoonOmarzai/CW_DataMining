{
 "cells": [
  {
   "cell_type": "markdown",
   "metadata": {},
   "source": [
    "### Import libraries"
   ]
  },
  {
   "cell_type": "code",
   "execution_count": 1,
   "metadata": {
    "tags": []
   },
   "outputs": [],
   "source": [
    "import numpy as np\n",
    "import pandas as pd\n",
    "import matplotlib.pyplot as plt\n",
    "import seaborn as sns"
   ]
  },
  {
   "cell_type": "markdown",
   "metadata": {},
   "source": [
    "### Data Loading and EDA\n",
    "- Load the dataset\n",
    "- Display the first five rows\n",
    "- List the columns name\n",
    "- Check the info\n",
    "- Check the mathematical discribtion of the dataset\n",
    "- Check the shape of the dataset\n",
    "- Remove id columns\n",
    "- Check for null values\n",
    "- Check the balance of the target feature\n",
    "- Get only categorical columns and go deeper \n",
    "- Get only numerical features and explore it\n",
    "- Numerical variables are usually of 2 type\n",
    "    - Continous variable\n",
    "    - Discrete Variables\n",
    "- Check the distribution of continous variables of 20 features only to get some idea about the distribution, whether noraml distributed or not     \n"
   ]
  },
  {
   "cell_type": "code",
   "execution_count": 2,
   "metadata": {
    "tags": []
   },
   "outputs": [
    {
     "data": {
      "text/html": [
       "<div>\n",
       "<style scoped>\n",
       "    .dataframe tbody tr th:only-of-type {\n",
       "        vertical-align: middle;\n",
       "    }\n",
       "\n",
       "    .dataframe tbody tr th {\n",
       "        vertical-align: top;\n",
       "    }\n",
       "\n",
       "    .dataframe thead th {\n",
       "        text-align: right;\n",
       "    }\n",
       "</style>\n",
       "<table border=\"1\" class=\"dataframe\">\n",
       "  <thead>\n",
       "    <tr style=\"text-align: right;\">\n",
       "      <th></th>\n",
       "      <th>Info_PepID</th>\n",
       "      <th>Info_organism_id</th>\n",
       "      <th>Info_protein_id</th>\n",
       "      <th>Info_pos</th>\n",
       "      <th>Info_AA</th>\n",
       "      <th>Info_epitope_id</th>\n",
       "      <th>Info_nPos</th>\n",
       "      <th>Info_nNeg</th>\n",
       "      <th>Info_cluster</th>\n",
       "      <th>Class</th>\n",
       "      <th>...</th>\n",
       "      <th>feat_esm1b_1271</th>\n",
       "      <th>feat_esm1b_1272</th>\n",
       "      <th>feat_esm1b_1273</th>\n",
       "      <th>feat_esm1b_1274</th>\n",
       "      <th>feat_esm1b_1275</th>\n",
       "      <th>feat_esm1b_1276</th>\n",
       "      <th>feat_esm1b_1277</th>\n",
       "      <th>feat_esm1b_1278</th>\n",
       "      <th>feat_esm1b_1279</th>\n",
       "      <th>feat_esm1b_1280</th>\n",
       "    </tr>\n",
       "  </thead>\n",
       "  <tbody>\n",
       "    <tr>\n",
       "      <th>0</th>\n",
       "      <td>XP_809948.1:15</td>\n",
       "      <td>5693</td>\n",
       "      <td>XP_809948.1</td>\n",
       "      <td>218</td>\n",
       "      <td>E</td>\n",
       "      <td>276453</td>\n",
       "      <td>1</td>\n",
       "      <td>0</td>\n",
       "      <td>18</td>\n",
       "      <td>1</td>\n",
       "      <td>...</td>\n",
       "      <td>-0.177248</td>\n",
       "      <td>-0.275432</td>\n",
       "      <td>0.175780</td>\n",
       "      <td>-2.618115</td>\n",
       "      <td>-0.306478</td>\n",
       "      <td>0.248409</td>\n",
       "      <td>-0.144645</td>\n",
       "      <td>-0.163276</td>\n",
       "      <td>0.101016</td>\n",
       "      <td>0.571763</td>\n",
       "    </tr>\n",
       "    <tr>\n",
       "      <th>1</th>\n",
       "      <td>XP_809948.1:15</td>\n",
       "      <td>5693</td>\n",
       "      <td>XP_809948.1</td>\n",
       "      <td>219</td>\n",
       "      <td>E</td>\n",
       "      <td>276453</td>\n",
       "      <td>1</td>\n",
       "      <td>0</td>\n",
       "      <td>18</td>\n",
       "      <td>1</td>\n",
       "      <td>...</td>\n",
       "      <td>-0.089673</td>\n",
       "      <td>-0.258615</td>\n",
       "      <td>0.063662</td>\n",
       "      <td>-2.660741</td>\n",
       "      <td>-0.227916</td>\n",
       "      <td>0.233011</td>\n",
       "      <td>-0.143840</td>\n",
       "      <td>-0.119282</td>\n",
       "      <td>0.146848</td>\n",
       "      <td>0.507656</td>\n",
       "    </tr>\n",
       "    <tr>\n",
       "      <th>2</th>\n",
       "      <td>XP_809948.1:15</td>\n",
       "      <td>5693</td>\n",
       "      <td>XP_809948.1</td>\n",
       "      <td>220</td>\n",
       "      <td>D</td>\n",
       "      <td>276453</td>\n",
       "      <td>1</td>\n",
       "      <td>0</td>\n",
       "      <td>18</td>\n",
       "      <td>1</td>\n",
       "      <td>...</td>\n",
       "      <td>-0.037816</td>\n",
       "      <td>-0.205189</td>\n",
       "      <td>0.220458</td>\n",
       "      <td>-2.610207</td>\n",
       "      <td>-0.156326</td>\n",
       "      <td>0.231606</td>\n",
       "      <td>0.251916</td>\n",
       "      <td>0.077030</td>\n",
       "      <td>0.326192</td>\n",
       "      <td>0.071661</td>\n",
       "    </tr>\n",
       "    <tr>\n",
       "      <th>3</th>\n",
       "      <td>XP_809948.1:15</td>\n",
       "      <td>5693</td>\n",
       "      <td>XP_809948.1</td>\n",
       "      <td>221</td>\n",
       "      <td>N</td>\n",
       "      <td>276453</td>\n",
       "      <td>1</td>\n",
       "      <td>0</td>\n",
       "      <td>18</td>\n",
       "      <td>1</td>\n",
       "      <td>...</td>\n",
       "      <td>-0.249216</td>\n",
       "      <td>-0.211748</td>\n",
       "      <td>-0.130716</td>\n",
       "      <td>-2.598186</td>\n",
       "      <td>-0.130838</td>\n",
       "      <td>-0.026848</td>\n",
       "      <td>0.167203</td>\n",
       "      <td>-0.394126</td>\n",
       "      <td>0.222274</td>\n",
       "      <td>0.376358</td>\n",
       "    </tr>\n",
       "    <tr>\n",
       "      <th>4</th>\n",
       "      <td>XP_809948.1:15</td>\n",
       "      <td>5693</td>\n",
       "      <td>XP_809948.1</td>\n",
       "      <td>222</td>\n",
       "      <td>E</td>\n",
       "      <td>276453</td>\n",
       "      <td>1</td>\n",
       "      <td>0</td>\n",
       "      <td>18</td>\n",
       "      <td>1</td>\n",
       "      <td>...</td>\n",
       "      <td>-0.039318</td>\n",
       "      <td>-0.250912</td>\n",
       "      <td>-0.093870</td>\n",
       "      <td>-2.414023</td>\n",
       "      <td>-0.253500</td>\n",
       "      <td>0.118345</td>\n",
       "      <td>-0.160718</td>\n",
       "      <td>-0.076750</td>\n",
       "      <td>0.448067</td>\n",
       "      <td>0.326883</td>\n",
       "    </tr>\n",
       "  </tbody>\n",
       "</table>\n",
       "<p>5 rows × 1291 columns</p>\n",
       "</div>"
      ],
      "text/plain": [
       "       Info_PepID  Info_organism_id Info_protein_id  Info_pos Info_AA  \\\n",
       "0  XP_809948.1:15              5693     XP_809948.1       218       E   \n",
       "1  XP_809948.1:15              5693     XP_809948.1       219       E   \n",
       "2  XP_809948.1:15              5693     XP_809948.1       220       D   \n",
       "3  XP_809948.1:15              5693     XP_809948.1       221       N   \n",
       "4  XP_809948.1:15              5693     XP_809948.1       222       E   \n",
       "\n",
       "  Info_epitope_id Info_nPos Info_nNeg  Info_cluster  Class  ...  \\\n",
       "0          276453         1         0            18      1  ...   \n",
       "1          276453         1         0            18      1  ...   \n",
       "2          276453         1         0            18      1  ...   \n",
       "3          276453         1         0            18      1  ...   \n",
       "4          276453         1         0            18      1  ...   \n",
       "\n",
       "   feat_esm1b_1271  feat_esm1b_1272  feat_esm1b_1273  feat_esm1b_1274  \\\n",
       "0        -0.177248        -0.275432         0.175780        -2.618115   \n",
       "1        -0.089673        -0.258615         0.063662        -2.660741   \n",
       "2        -0.037816        -0.205189         0.220458        -2.610207   \n",
       "3        -0.249216        -0.211748        -0.130716        -2.598186   \n",
       "4        -0.039318        -0.250912        -0.093870        -2.414023   \n",
       "\n",
       "   feat_esm1b_1275  feat_esm1b_1276  feat_esm1b_1277  feat_esm1b_1278  \\\n",
       "0        -0.306478         0.248409        -0.144645        -0.163276   \n",
       "1        -0.227916         0.233011        -0.143840        -0.119282   \n",
       "2        -0.156326         0.231606         0.251916         0.077030   \n",
       "3        -0.130838        -0.026848         0.167203        -0.394126   \n",
       "4        -0.253500         0.118345        -0.160718        -0.076750   \n",
       "\n",
       "   feat_esm1b_1279  feat_esm1b_1280  \n",
       "0         0.101016         0.571763  \n",
       "1         0.146848         0.507656  \n",
       "2         0.326192         0.071661  \n",
       "3         0.222274         0.376358  \n",
       "4         0.448067         0.326883  \n",
       "\n",
       "[5 rows x 1291 columns]"
      ]
     },
     "execution_count": 2,
     "metadata": {},
     "output_type": "execute_result"
    }
   ],
   "source": [
    "df = pd.read_csv('df/df.csv', sep=';')\n",
    "df.head()"
   ]
  },
  {
   "cell_type": "code",
   "execution_count": 3,
   "metadata": {
    "tags": []
   },
   "outputs": [
    {
     "data": {
      "text/plain": [
       "Index(['Info_PepID', 'Info_organism_id', 'Info_protein_id', 'Info_pos',\n",
       "       'Info_AA', 'Info_epitope_id', 'Info_nPos', 'Info_nNeg', 'Info_cluster',\n",
       "       'Class',\n",
       "       ...\n",
       "       'feat_esm1b_1271', 'feat_esm1b_1272', 'feat_esm1b_1273',\n",
       "       'feat_esm1b_1274', 'feat_esm1b_1275', 'feat_esm1b_1276',\n",
       "       'feat_esm1b_1277', 'feat_esm1b_1278', 'feat_esm1b_1279',\n",
       "       'feat_esm1b_1280'],\n",
       "      dtype='object', length=1291)"
      ]
     },
     "execution_count": 3,
     "metadata": {},
     "output_type": "execute_result"
    }
   ],
   "source": [
    "## list all the columns\n",
    "df.columns"
   ]
  },
  {
   "cell_type": "code",
   "execution_count": 4,
   "metadata": {
    "tags": []
   },
   "outputs": [
    {
     "name": "stdout",
     "output_type": "stream",
     "text": [
      "<class 'pandas.core.frame.DataFrame'>\n",
      "RangeIndex: 49606 entries, 0 to 49605\n",
      "Columns: 1291 entries, Info_PepID to feat_esm1b_1280\n",
      "dtypes: float64(1281), int64(4), object(6)\n",
      "memory usage: 488.6+ MB\n"
     ]
    }
   ],
   "source": [
    "# check the info\n",
    "df.info()"
   ]
  },
  {
   "cell_type": "code",
   "execution_count": 5,
   "metadata": {
    "tags": []
   },
   "outputs": [
    {
     "data": {
      "text/html": [
       "<div>\n",
       "<style scoped>\n",
       "    .dataframe tbody tr th:only-of-type {\n",
       "        vertical-align: middle;\n",
       "    }\n",
       "\n",
       "    .dataframe tbody tr th {\n",
       "        vertical-align: top;\n",
       "    }\n",
       "\n",
       "    .dataframe thead th {\n",
       "        text-align: right;\n",
       "    }\n",
       "</style>\n",
       "<table border=\"1\" class=\"dataframe\">\n",
       "  <thead>\n",
       "    <tr style=\"text-align: right;\">\n",
       "      <th></th>\n",
       "      <th>Info_organism_id</th>\n",
       "      <th>Info_pos</th>\n",
       "      <th>Info_cluster</th>\n",
       "      <th>Class</th>\n",
       "      <th>feat_esm1b_0</th>\n",
       "      <th>feat_esm1b_1</th>\n",
       "      <th>feat_esm1b_2</th>\n",
       "      <th>feat_esm1b_3</th>\n",
       "      <th>feat_esm1b_4</th>\n",
       "      <th>feat_esm1b_5</th>\n",
       "      <th>...</th>\n",
       "      <th>feat_esm1b_1271</th>\n",
       "      <th>feat_esm1b_1272</th>\n",
       "      <th>feat_esm1b_1273</th>\n",
       "      <th>feat_esm1b_1274</th>\n",
       "      <th>feat_esm1b_1275</th>\n",
       "      <th>feat_esm1b_1276</th>\n",
       "      <th>feat_esm1b_1277</th>\n",
       "      <th>feat_esm1b_1278</th>\n",
       "      <th>feat_esm1b_1279</th>\n",
       "      <th>feat_esm1b_1280</th>\n",
       "    </tr>\n",
       "  </thead>\n",
       "  <tbody>\n",
       "    <tr>\n",
       "      <th>count</th>\n",
       "      <td>49606.0</td>\n",
       "      <td>49606.000000</td>\n",
       "      <td>49606.000000</td>\n",
       "      <td>49606.000000</td>\n",
       "      <td>49522.000000</td>\n",
       "      <td>49523.000000</td>\n",
       "      <td>49523.000000</td>\n",
       "      <td>49523.000000</td>\n",
       "      <td>49523.000000</td>\n",
       "      <td>49523.000000</td>\n",
       "      <td>...</td>\n",
       "      <td>49521.000000</td>\n",
       "      <td>49520.000000</td>\n",
       "      <td>49524.000000</td>\n",
       "      <td>49520.000000</td>\n",
       "      <td>49527.000000</td>\n",
       "      <td>49522.000000</td>\n",
       "      <td>49521.000000</td>\n",
       "      <td>49523.000000</td>\n",
       "      <td>49525.000000</td>\n",
       "      <td>49524.000000</td>\n",
       "    </tr>\n",
       "    <tr>\n",
       "      <th>mean</th>\n",
       "      <td>5693.0</td>\n",
       "      <td>446.149034</td>\n",
       "      <td>139.889469</td>\n",
       "      <td>-0.967383</td>\n",
       "      <td>0.040612</td>\n",
       "      <td>0.149928</td>\n",
       "      <td>0.069099</td>\n",
       "      <td>0.079165</td>\n",
       "      <td>0.024519</td>\n",
       "      <td>-0.137498</td>\n",
       "      <td>...</td>\n",
       "      <td>-0.093252</td>\n",
       "      <td>-0.154691</td>\n",
       "      <td>0.067418</td>\n",
       "      <td>-1.125989</td>\n",
       "      <td>-0.137292</td>\n",
       "      <td>0.036706</td>\n",
       "      <td>0.015572</td>\n",
       "      <td>-0.082436</td>\n",
       "      <td>0.248405</td>\n",
       "      <td>0.091574</td>\n",
       "    </tr>\n",
       "    <tr>\n",
       "      <th>std</th>\n",
       "      <td>0.0</td>\n",
       "      <td>643.758192</td>\n",
       "      <td>77.525359</td>\n",
       "      <td>0.253321</td>\n",
       "      <td>0.196273</td>\n",
       "      <td>0.181744</td>\n",
       "      <td>0.205917</td>\n",
       "      <td>0.184680</td>\n",
       "      <td>0.193929</td>\n",
       "      <td>0.193766</td>\n",
       "      <td>...</td>\n",
       "      <td>0.187744</td>\n",
       "      <td>0.213362</td>\n",
       "      <td>0.199268</td>\n",
       "      <td>0.750110</td>\n",
       "      <td>0.219276</td>\n",
       "      <td>0.208201</td>\n",
       "      <td>0.194232</td>\n",
       "      <td>0.230151</td>\n",
       "      <td>0.272975</td>\n",
       "      <td>0.187875</td>\n",
       "    </tr>\n",
       "    <tr>\n",
       "      <th>min</th>\n",
       "      <td>5693.0</td>\n",
       "      <td>1.000000</td>\n",
       "      <td>7.000000</td>\n",
       "      <td>-1.000000</td>\n",
       "      <td>-0.985646</td>\n",
       "      <td>-1.240288</td>\n",
       "      <td>-0.986003</td>\n",
       "      <td>-1.290777</td>\n",
       "      <td>-1.012835</td>\n",
       "      <td>-1.559586</td>\n",
       "      <td>...</td>\n",
       "      <td>-1.019991</td>\n",
       "      <td>-1.210598</td>\n",
       "      <td>-0.977556</td>\n",
       "      <td>-3.004328</td>\n",
       "      <td>-1.057963</td>\n",
       "      <td>-1.024662</td>\n",
       "      <td>-0.953820</td>\n",
       "      <td>-1.189411</td>\n",
       "      <td>-1.502582</td>\n",
       "      <td>-0.921677</td>\n",
       "    </tr>\n",
       "    <tr>\n",
       "      <th>25%</th>\n",
       "      <td>5693.0</td>\n",
       "      <td>126.000000</td>\n",
       "      <td>71.000000</td>\n",
       "      <td>-1.000000</td>\n",
       "      <td>-0.085853</td>\n",
       "      <td>0.040445</td>\n",
       "      <td>-0.060949</td>\n",
       "      <td>-0.039753</td>\n",
       "      <td>-0.096460</td>\n",
       "      <td>-0.262736</td>\n",
       "      <td>...</td>\n",
       "      <td>-0.212362</td>\n",
       "      <td>-0.295248</td>\n",
       "      <td>-0.048585</td>\n",
       "      <td>-1.675730</td>\n",
       "      <td>-0.300492</td>\n",
       "      <td>-0.099466</td>\n",
       "      <td>-0.089751</td>\n",
       "      <td>-0.239451</td>\n",
       "      <td>0.113720</td>\n",
       "      <td>-0.027901</td>\n",
       "    </tr>\n",
       "    <tr>\n",
       "      <th>50%</th>\n",
       "      <td>5693.0</td>\n",
       "      <td>251.000000</td>\n",
       "      <td>145.000000</td>\n",
       "      <td>-1.000000</td>\n",
       "      <td>0.033002</td>\n",
       "      <td>0.146171</td>\n",
       "      <td>0.069329</td>\n",
       "      <td>0.084941</td>\n",
       "      <td>0.037249</td>\n",
       "      <td>-0.135379</td>\n",
       "      <td>...</td>\n",
       "      <td>-0.091373</td>\n",
       "      <td>-0.151224</td>\n",
       "      <td>0.066127</td>\n",
       "      <td>-1.206485</td>\n",
       "      <td>-0.145676</td>\n",
       "      <td>0.031547</td>\n",
       "      <td>0.029160</td>\n",
       "      <td>-0.076100</td>\n",
       "      <td>0.287131</td>\n",
       "      <td>0.086134</td>\n",
       "    </tr>\n",
       "    <tr>\n",
       "      <th>75%</th>\n",
       "      <td>5693.0</td>\n",
       "      <td>463.000000</td>\n",
       "      <td>205.000000</td>\n",
       "      <td>-1.000000</td>\n",
       "      <td>0.158857</td>\n",
       "      <td>0.255763</td>\n",
       "      <td>0.202764</td>\n",
       "      <td>0.203351</td>\n",
       "      <td>0.155371</td>\n",
       "      <td>-0.011303</td>\n",
       "      <td>...</td>\n",
       "      <td>0.026781</td>\n",
       "      <td>-0.012528</td>\n",
       "      <td>0.181142</td>\n",
       "      <td>-0.687328</td>\n",
       "      <td>0.002344</td>\n",
       "      <td>0.165156</td>\n",
       "      <td>0.135396</td>\n",
       "      <td>0.077408</td>\n",
       "      <td>0.428584</td>\n",
       "      <td>0.205675</td>\n",
       "    </tr>\n",
       "    <tr>\n",
       "      <th>max</th>\n",
       "      <td>5693.0</td>\n",
       "      <td>4841.000000</td>\n",
       "      <td>283.000000</td>\n",
       "      <td>1.000000</td>\n",
       "      <td>1.290553</td>\n",
       "      <td>1.203393</td>\n",
       "      <td>1.017387</td>\n",
       "      <td>1.217404</td>\n",
       "      <td>0.935810</td>\n",
       "      <td>0.905849</td>\n",
       "      <td>...</td>\n",
       "      <td>0.708338</td>\n",
       "      <td>0.880500</td>\n",
       "      <td>1.313778</td>\n",
       "      <td>2.234913</td>\n",
       "      <td>1.142386</td>\n",
       "      <td>1.107519</td>\n",
       "      <td>0.885712</td>\n",
       "      <td>1.041784</td>\n",
       "      <td>1.279979</td>\n",
       "      <td>1.301746</td>\n",
       "    </tr>\n",
       "  </tbody>\n",
       "</table>\n",
       "<p>8 rows × 1285 columns</p>\n",
       "</div>"
      ],
      "text/plain": [
       "       Info_organism_id      Info_pos  Info_cluster         Class  \\\n",
       "count           49606.0  49606.000000  49606.000000  49606.000000   \n",
       "mean             5693.0    446.149034    139.889469     -0.967383   \n",
       "std                 0.0    643.758192     77.525359      0.253321   \n",
       "min              5693.0      1.000000      7.000000     -1.000000   \n",
       "25%              5693.0    126.000000     71.000000     -1.000000   \n",
       "50%              5693.0    251.000000    145.000000     -1.000000   \n",
       "75%              5693.0    463.000000    205.000000     -1.000000   \n",
       "max              5693.0   4841.000000    283.000000      1.000000   \n",
       "\n",
       "       feat_esm1b_0  feat_esm1b_1  feat_esm1b_2  feat_esm1b_3  feat_esm1b_4  \\\n",
       "count  49522.000000  49523.000000  49523.000000  49523.000000  49523.000000   \n",
       "mean       0.040612      0.149928      0.069099      0.079165      0.024519   \n",
       "std        0.196273      0.181744      0.205917      0.184680      0.193929   \n",
       "min       -0.985646     -1.240288     -0.986003     -1.290777     -1.012835   \n",
       "25%       -0.085853      0.040445     -0.060949     -0.039753     -0.096460   \n",
       "50%        0.033002      0.146171      0.069329      0.084941      0.037249   \n",
       "75%        0.158857      0.255763      0.202764      0.203351      0.155371   \n",
       "max        1.290553      1.203393      1.017387      1.217404      0.935810   \n",
       "\n",
       "       feat_esm1b_5  ...  feat_esm1b_1271  feat_esm1b_1272  feat_esm1b_1273  \\\n",
       "count  49523.000000  ...     49521.000000     49520.000000     49524.000000   \n",
       "mean      -0.137498  ...        -0.093252        -0.154691         0.067418   \n",
       "std        0.193766  ...         0.187744         0.213362         0.199268   \n",
       "min       -1.559586  ...        -1.019991        -1.210598        -0.977556   \n",
       "25%       -0.262736  ...        -0.212362        -0.295248        -0.048585   \n",
       "50%       -0.135379  ...        -0.091373        -0.151224         0.066127   \n",
       "75%       -0.011303  ...         0.026781        -0.012528         0.181142   \n",
       "max        0.905849  ...         0.708338         0.880500         1.313778   \n",
       "\n",
       "       feat_esm1b_1274  feat_esm1b_1275  feat_esm1b_1276  feat_esm1b_1277  \\\n",
       "count     49520.000000     49527.000000     49522.000000     49521.000000   \n",
       "mean         -1.125989        -0.137292         0.036706         0.015572   \n",
       "std           0.750110         0.219276         0.208201         0.194232   \n",
       "min          -3.004328        -1.057963        -1.024662        -0.953820   \n",
       "25%          -1.675730        -0.300492        -0.099466        -0.089751   \n",
       "50%          -1.206485        -0.145676         0.031547         0.029160   \n",
       "75%          -0.687328         0.002344         0.165156         0.135396   \n",
       "max           2.234913         1.142386         1.107519         0.885712   \n",
       "\n",
       "       feat_esm1b_1278  feat_esm1b_1279  feat_esm1b_1280  \n",
       "count     49523.000000     49525.000000     49524.000000  \n",
       "mean         -0.082436         0.248405         0.091574  \n",
       "std           0.230151         0.272975         0.187875  \n",
       "min          -1.189411        -1.502582        -0.921677  \n",
       "25%          -0.239451         0.113720        -0.027901  \n",
       "50%          -0.076100         0.287131         0.086134  \n",
       "75%           0.077408         0.428584         0.205675  \n",
       "max           1.041784         1.279979         1.301746  \n",
       "\n",
       "[8 rows x 1285 columns]"
      ]
     },
     "execution_count": 5,
     "metadata": {},
     "output_type": "execute_result"
    }
   ],
   "source": [
    "# check statistical description of data\n",
    "df.describe()"
   ]
  },
  {
   "cell_type": "code",
   "execution_count": 6,
   "metadata": {
    "tags": []
   },
   "outputs": [
    {
     "data": {
      "text/plain": [
       "(49606, 1291)"
      ]
     },
     "execution_count": 6,
     "metadata": {},
     "output_type": "execute_result"
    }
   ],
   "source": [
    "# check shape of the data\n",
    "df.shape"
   ]
  },
  {
   "cell_type": "code",
   "execution_count": 7,
   "metadata": {
    "tags": []
   },
   "outputs": [],
   "source": [
    "## remove ids columns, cause it is not important in model training\n",
    "ids_columns = ['Info_PepID', 'Info_organism_id', 'Info_protein_id','Info_epitope_id']\n",
    "df.drop(ids_columns, axis=1, inplace=True)"
   ]
  },
  {
   "cell_type": "code",
   "execution_count": 8,
   "metadata": {
    "tags": []
   },
   "outputs": [
    {
     "data": {
      "text/plain": [
       "(49606, 1287)"
      ]
     },
     "execution_count": 8,
     "metadata": {},
     "output_type": "execute_result"
    }
   ],
   "source": [
    "df.shape"
   ]
  },
  {
   "cell_type": "code",
   "execution_count": 9,
   "metadata": {
    "tags": []
   },
   "outputs": [
    {
     "data": {
      "text/plain": [
       "Info_pos            0\n",
       "Info_AA             0\n",
       "Info_nPos           0\n",
       "Info_nNeg           0\n",
       "Info_cluster        0\n",
       "                   ..\n",
       "feat_esm1b_1276    84\n",
       "feat_esm1b_1277    85\n",
       "feat_esm1b_1278    83\n",
       "feat_esm1b_1279    81\n",
       "feat_esm1b_1280    82\n",
       "Length: 1287, dtype: int64"
      ]
     },
     "execution_count": 9,
     "metadata": {},
     "output_type": "execute_result"
    }
   ],
   "source": [
    "# check for null values\n",
    "df.isnull().sum()"
   ]
  },
  {
   "cell_type": "code",
   "execution_count": 10,
   "metadata": {
    "tags": []
   },
   "outputs": [
    {
     "data": {
      "text/plain": [
       "Index(['feat_esm1b_0', 'feat_esm1b_1', 'feat_esm1b_2', 'feat_esm1b_3',\n",
       "       'feat_esm1b_4', 'feat_esm1b_5', 'feat_esm1b_6', 'feat_esm1b_7',\n",
       "       'feat_esm1b_8', 'feat_esm1b_9',\n",
       "       ...\n",
       "       'feat_esm1b_1271', 'feat_esm1b_1272', 'feat_esm1b_1273',\n",
       "       'feat_esm1b_1274', 'feat_esm1b_1275', 'feat_esm1b_1276',\n",
       "       'feat_esm1b_1277', 'feat_esm1b_1278', 'feat_esm1b_1279',\n",
       "       'feat_esm1b_1280'],\n",
       "      dtype='object', length=1281)"
      ]
     },
     "execution_count": 10,
     "metadata": {},
     "output_type": "execute_result"
    }
   ],
   "source": [
    "null_columns = df.columns[df.isnull().any()]\n",
    "null_columns"
   ]
  },
  {
   "cell_type": "code",
   "execution_count": 11,
   "metadata": {
    "tags": []
   },
   "outputs": [
    {
     "data": {
      "text/plain": [
       "-1    48797\n",
       " 1      809\n",
       "Name: Class, dtype: int64"
      ]
     },
     "execution_count": 11,
     "metadata": {},
     "output_type": "execute_result"
    }
   ],
   "source": [
    "## Check the balance of the target feature\n",
    "df.Class.value_counts()"
   ]
  },
  {
   "cell_type": "code",
   "execution_count": 12,
   "metadata": {
    "tags": []
   },
   "outputs": [
    {
     "data": {
      "image/png": "[encoded data removed]",
      "text/plain": [
       "<Figure size 640x480 with 1 Axes>"
      ]
     },
     "metadata": {},
     "output_type": "display_data"
    }
   ],
   "source": [
    "df.Class.value_counts().plot(kind=\"bar\", color=[\"salmon\", \"lightblue\"]);"
   ]
  },
  {
   "cell_type": "code",
   "execution_count": 13,
   "metadata": {
    "tags": []
   },
   "outputs": [],
   "source": [
    "# lets replace -1 to 0\n",
    "df.replace({'Class': {-1: 0}}, inplace=True)"
   ]
  },
  {
   "cell_type": "code",
   "execution_count": 14,
   "metadata": {
    "tags": []
   },
   "outputs": [
    {
     "data": {
      "text/plain": [
       "array([1, 0], dtype=int64)"
      ]
     },
     "execution_count": 14,
     "metadata": {},
     "output_type": "execute_result"
    }
   ],
   "source": [
    "df.Class.unique()"
   ]
  },
  {
   "cell_type": "code",
   "execution_count": 15,
   "metadata": {
    "tags": []
   },
   "outputs": [
    {
     "data": {
      "text/plain": [
       "Index(['Info_AA', 'Info_nPos', 'Info_nNeg'], dtype='object')"
      ]
     },
     "execution_count": 15,
     "metadata": {},
     "output_type": "execute_result"
    }
   ],
   "source": [
    "categorical_columns = df.select_dtypes(include=['object']).columns\n",
    "categorical_columns"
   ]
  },
  {
   "cell_type": "code",
   "execution_count": 16,
   "metadata": {
    "tags": []
   },
   "outputs": [
    {
     "data": {
      "text/plain": [
       "A    4980\n",
       "S    4359\n",
       "E    4318\n",
       "G    3983\n",
       "L    3671\n",
       "T    3631\n",
       "V    3280\n",
       "P    2971\n",
       "R    2701\n",
       "D    2676\n",
       "K    2623\n",
       "Q    2037\n",
       "N    1990\n",
       "I    1408\n",
       "F    1263\n",
       "H    1006\n",
       "M     828\n",
       "Y     799\n",
       "C     721\n",
       "W     361\n",
       "Name: Info_AA, dtype: int64"
      ]
     },
     "execution_count": 16,
     "metadata": {},
     "output_type": "execute_result"
    }
   ],
   "source": [
    "df.Info_AA.value_counts()"
   ]
  },
  {
   "cell_type": "code",
   "execution_count": 17,
   "metadata": {
    "tags": []
   },
   "outputs": [
    {
     "data": {
      "text/plain": [
       "0              31940\n",
       "0,0            12672\n",
       "0,0,0           3317\n",
       "1                675\n",
       "0,0,0,0          674\n",
       "0,0,0,0,0         76\n",
       "1,1               63\n",
       "1,0               61\n",
       "0,1               35\n",
       "0,1,1             21\n",
       "1,1,1             18\n",
       "1,0,0             14\n",
       "1,1,1,2           10\n",
       "1,0,1              9\n",
       "1,1,0              6\n",
       "0,0,1              4\n",
       "0,0,0,0,0,0        3\n",
       "1,0,1,1,2          2\n",
       "1,0,1,1            2\n",
       "0,1,1,2            1\n",
       "1,1,2              1\n",
       "0,1,0,0            1\n",
       "0,1,2              1\n",
       "Name: Info_nPos, dtype: int64"
      ]
     },
     "execution_count": 17,
     "metadata": {},
     "output_type": "execute_result"
    }
   ],
   "source": [
    "df.Info_nPos.value_counts()"
   ]
  },
  {
   "cell_type": "markdown",
   "metadata": {},
   "source": [
    "Observation:\n",
    "- It seems that we might have only 0 and 1 values \n",
    "- So we need to convert all the features to 0 or 1"
   ]
  },
  {
   "cell_type": "markdown",
   "metadata": {},
   "source": [
    "**Performe feature Engineering on Info_nPos feature**\n",
    "- extract: 0,0,0 -> 0\n",
    "- extract: 1,1,1 -> 1\n",
    "- convert object -> int"
   ]
  },
  {
   "cell_type": "code",
   "execution_count": 18,
   "metadata": {
    "tags": []
   },
   "outputs": [],
   "source": [
    "df['Info_nPos'] = df['Info_nPos'].str.split(',').str[0]"
   ]
  },
  {
   "cell_type": "code",
   "execution_count": 19,
   "metadata": {
    "tags": []
   },
   "outputs": [
    {
     "data": {
      "text/plain": [
       "0    48745\n",
       "1      861\n",
       "Name: Info_nPos, dtype: int64"
      ]
     },
     "execution_count": 19,
     "metadata": {},
     "output_type": "execute_result"
    }
   ],
   "source": [
    "df['Info_nPos'].value_counts()"
   ]
  },
  {
   "cell_type": "code",
   "execution_count": 20,
   "metadata": {
    "tags": []
   },
   "outputs": [],
   "source": [
    "df['Info_nPos'] = df.Info_nPos.astype(int)"
   ]
  },
  {
   "cell_type": "code",
   "execution_count": 21,
   "metadata": {
    "tags": []
   },
   "outputs": [
    {
     "data": {
      "text/plain": [
       "dtype('int32')"
      ]
     },
     "execution_count": 21,
     "metadata": {},
     "output_type": "execute_result"
    }
   ],
   "source": [
    "df.Info_nPos.dtype"
   ]
  },
  {
   "cell_type": "code",
   "execution_count": 22,
   "metadata": {
    "tags": []
   },
   "outputs": [
    {
     "data": {
      "text/plain": [
       "1              31940\n",
       "1,1            12672\n",
       "1,1,1           3317\n",
       "0                675\n",
       "1,1,1,1          674\n",
       "1,1,1,1,1         76\n",
       "0,0               63\n",
       "0,1               61\n",
       "1,0               35\n",
       "1,0,0             22\n",
       "0,0,0             19\n",
       "0,1,1             14\n",
       "0,0,0,0           10\n",
       "0,1,0              9\n",
       "0,0,1              6\n",
       "1,1,0              4\n",
       "1,1,1,1,1,1        3\n",
       "0,1,0,0            2\n",
       "0,1,0,0,0          2\n",
       "1,0,0,0            1\n",
       "1,0,1,1            1\n",
       "Name: Info_nNeg, dtype: int64"
      ]
     },
     "execution_count": 22,
     "metadata": {},
     "output_type": "execute_result"
    }
   ],
   "source": [
    "df.Info_nNeg.value_counts()"
   ]
  },
  {
   "cell_type": "markdown",
   "metadata": {},
   "source": [
    "**Performe feature Engineering on Info_nNeg feature**\n",
    "- extract: 0,0,0 -> 0\n",
    "- extract: 1,1,1 -> 1\n",
    "- convert object -> int"
   ]
  },
  {
   "cell_type": "code",
   "execution_count": 23,
   "metadata": {
    "tags": []
   },
   "outputs": [
    {
     "data": {
      "text/plain": [
       "1    48745\n",
       "0      861\n",
       "Name: Info_nNeg, dtype: int64"
      ]
     },
     "execution_count": 23,
     "metadata": {},
     "output_type": "execute_result"
    }
   ],
   "source": [
    "df['Info_nNeg'] = df['Info_nNeg'].str.split(',').str[0]\n",
    "df['Info_nNeg'].value_counts()"
   ]
  },
  {
   "cell_type": "code",
   "execution_count": 24,
   "metadata": {
    "tags": []
   },
   "outputs": [
    {
     "data": {
      "text/plain": [
       "dtype('int32')"
      ]
     },
     "execution_count": 24,
     "metadata": {},
     "output_type": "execute_result"
    }
   ],
   "source": [
    "df['Info_nNeg'] = df.Info_nNeg.astype(int)\n",
    "df.Info_nNeg.dtype"
   ]
  },
  {
   "cell_type": "code",
   "execution_count": 25,
   "metadata": {
    "tags": []
   },
   "outputs": [
    {
     "data": {
      "text/html": [
       "<div>\n",
       "<style scoped>\n",
       "    .dataframe tbody tr th:only-of-type {\n",
       "        vertical-align: middle;\n",
       "    }\n",
       "\n",
       "    .dataframe tbody tr th {\n",
       "        vertical-align: top;\n",
       "    }\n",
       "\n",
       "    .dataframe thead th {\n",
       "        text-align: right;\n",
       "    }\n",
       "</style>\n",
       "<table border=\"1\" class=\"dataframe\">\n",
       "  <thead>\n",
       "    <tr style=\"text-align: right;\">\n",
       "      <th></th>\n",
       "      <th>Info_AA</th>\n",
       "      <th>Info_nPos</th>\n",
       "      <th>Info_nNeg</th>\n",
       "    </tr>\n",
       "  </thead>\n",
       "  <tbody>\n",
       "    <tr>\n",
       "      <th>0</th>\n",
       "      <td>E</td>\n",
       "      <td>1</td>\n",
       "      <td>0</td>\n",
       "    </tr>\n",
       "    <tr>\n",
       "      <th>1</th>\n",
       "      <td>E</td>\n",
       "      <td>1</td>\n",
       "      <td>0</td>\n",
       "    </tr>\n",
       "    <tr>\n",
       "      <th>2</th>\n",
       "      <td>D</td>\n",
       "      <td>1</td>\n",
       "      <td>0</td>\n",
       "    </tr>\n",
       "    <tr>\n",
       "      <th>3</th>\n",
       "      <td>N</td>\n",
       "      <td>1</td>\n",
       "      <td>0</td>\n",
       "    </tr>\n",
       "    <tr>\n",
       "      <th>4</th>\n",
       "      <td>E</td>\n",
       "      <td>1</td>\n",
       "      <td>0</td>\n",
       "    </tr>\n",
       "  </tbody>\n",
       "</table>\n",
       "</div>"
      ],
      "text/plain": [
       "  Info_AA  Info_nPos  Info_nNeg\n",
       "0       E          1          0\n",
       "1       E          1          0\n",
       "2       D          1          0\n",
       "3       N          1          0\n",
       "4       E          1          0"
      ]
     },
     "execution_count": 25,
     "metadata": {},
     "output_type": "execute_result"
    }
   ],
   "source": [
    "df[categorical_columns].head()"
   ]
  },
  {
   "cell_type": "code",
   "execution_count": 26,
   "metadata": {
    "tags": []
   },
   "outputs": [
    {
     "data": {
      "text/plain": [
       "Index(['Info_pos', 'Info_nPos', 'Info_nNeg', 'Info_cluster', 'Class',\n",
       "       'feat_esm1b_0', 'feat_esm1b_1', 'feat_esm1b_2', 'feat_esm1b_3',\n",
       "       'feat_esm1b_4',\n",
       "       ...\n",
       "       'feat_esm1b_1271', 'feat_esm1b_1272', 'feat_esm1b_1273',\n",
       "       'feat_esm1b_1274', 'feat_esm1b_1275', 'feat_esm1b_1276',\n",
       "       'feat_esm1b_1277', 'feat_esm1b_1278', 'feat_esm1b_1279',\n",
       "       'feat_esm1b_1280'],\n",
       "      dtype='object', length=1286)"
      ]
     },
     "execution_count": 26,
     "metadata": {},
     "output_type": "execute_result"
    }
   ],
   "source": [
    "numerical_columns = df.select_dtypes(include=['int', 'float']).columns\n",
    "numerical_columns"
   ]
  },
  {
   "cell_type": "code",
   "execution_count": 27,
   "metadata": {
    "tags": []
   },
   "outputs": [
    {
     "data": {
      "text/plain": [
       "1286"
      ]
     },
     "execution_count": 27,
     "metadata": {},
     "output_type": "execute_result"
    }
   ],
   "source": [
    "# list of numerical variables\n",
    "numerical_features = [feature for feature in df.columns if df[feature].dtypes != 'O']\n",
    "len(numerical_features)"
   ]
  },
  {
   "cell_type": "code",
   "execution_count": 28,
   "metadata": {},
   "outputs": [
    {
     "name": "stdout",
     "output_type": "stream",
     "text": [
      "Discrete Variables Count: 3\n"
     ]
    }
   ],
   "source": [
    "## Numerical variables are usually of 2 type\n",
    "## 1. Continous variable and Discrete Variables\n",
    "\n",
    "discrete_feature=[feature for feature in numerical_features if len(df[feature].unique())<25]\n",
    "print(\"Discrete Variables Count: {}\".format(len(discrete_feature)))"
   ]
  },
  {
   "cell_type": "code",
   "execution_count": 29,
   "metadata": {
    "tags": []
   },
   "outputs": [
    {
     "data": {
      "text/html": [
       "<div>\n",
       "<style scoped>\n",
       "    .dataframe tbody tr th:only-of-type {\n",
       "        vertical-align: middle;\n",
       "    }\n",
       "\n",
       "    .dataframe tbody tr th {\n",
       "        vertical-align: top;\n",
       "    }\n",
       "\n",
       "    .dataframe thead th {\n",
       "        text-align: right;\n",
       "    }\n",
       "</style>\n",
       "<table border=\"1\" class=\"dataframe\">\n",
       "  <thead>\n",
       "    <tr style=\"text-align: right;\">\n",
       "      <th></th>\n",
       "      <th>Info_nPos</th>\n",
       "      <th>Info_nNeg</th>\n",
       "      <th>Class</th>\n",
       "    </tr>\n",
       "  </thead>\n",
       "  <tbody>\n",
       "    <tr>\n",
       "      <th>0</th>\n",
       "      <td>1</td>\n",
       "      <td>0</td>\n",
       "      <td>1</td>\n",
       "    </tr>\n",
       "    <tr>\n",
       "      <th>1</th>\n",
       "      <td>1</td>\n",
       "      <td>0</td>\n",
       "      <td>1</td>\n",
       "    </tr>\n",
       "    <tr>\n",
       "      <th>2</th>\n",
       "      <td>1</td>\n",
       "      <td>0</td>\n",
       "      <td>1</td>\n",
       "    </tr>\n",
       "    <tr>\n",
       "      <th>3</th>\n",
       "      <td>1</td>\n",
       "      <td>0</td>\n",
       "      <td>1</td>\n",
       "    </tr>\n",
       "    <tr>\n",
       "      <th>4</th>\n",
       "      <td>1</td>\n",
       "      <td>0</td>\n",
       "      <td>1</td>\n",
       "    </tr>\n",
       "  </tbody>\n",
       "</table>\n",
       "</div>"
      ],
      "text/plain": [
       "   Info_nPos  Info_nNeg  Class\n",
       "0          1          0      1\n",
       "1          1          0      1\n",
       "2          1          0      1\n",
       "3          1          0      1\n",
       "4          1          0      1"
      ]
     },
     "execution_count": 29,
     "metadata": {},
     "output_type": "execute_result"
    }
   ],
   "source": [
    "df[discrete_feature].head()"
   ]
  },
  {
   "cell_type": "code",
   "execution_count": 30,
   "metadata": {},
   "outputs": [
    {
     "name": "stdout",
     "output_type": "stream",
     "text": [
      "Continuous feature Count 1283\n"
     ]
    }
   ],
   "source": [
    "continuous_feature=[feature for feature in numerical_features if feature not in discrete_feature]\n",
    "print(\"Continuous feature Count {}\".format(len(continuous_feature)))"
   ]
  },
  {
   "cell_type": "code",
   "execution_count": 31,
   "metadata": {},
   "outputs": [
    {
     "data": {
      "text/html": [
       "<div>\n",
       "<style scoped>\n",
       "    .dataframe tbody tr th:only-of-type {\n",
       "        vertical-align: middle;\n",
       "    }\n",
       "\n",
       "    .dataframe tbody tr th {\n",
       "        vertical-align: top;\n",
       "    }\n",
       "\n",
       "    .dataframe thead th {\n",
       "        text-align: right;\n",
       "    }\n",
       "</style>\n",
       "<table border=\"1\" class=\"dataframe\">\n",
       "  <thead>\n",
       "    <tr style=\"text-align: right;\">\n",
       "      <th></th>\n",
       "      <th>Info_pos</th>\n",
       "      <th>Info_cluster</th>\n",
       "      <th>feat_esm1b_0</th>\n",
       "      <th>feat_esm1b_1</th>\n",
       "      <th>feat_esm1b_2</th>\n",
       "      <th>feat_esm1b_3</th>\n",
       "      <th>feat_esm1b_4</th>\n",
       "      <th>feat_esm1b_5</th>\n",
       "      <th>feat_esm1b_6</th>\n",
       "      <th>feat_esm1b_7</th>\n",
       "      <th>...</th>\n",
       "      <th>feat_esm1b_1271</th>\n",
       "      <th>feat_esm1b_1272</th>\n",
       "      <th>feat_esm1b_1273</th>\n",
       "      <th>feat_esm1b_1274</th>\n",
       "      <th>feat_esm1b_1275</th>\n",
       "      <th>feat_esm1b_1276</th>\n",
       "      <th>feat_esm1b_1277</th>\n",
       "      <th>feat_esm1b_1278</th>\n",
       "      <th>feat_esm1b_1279</th>\n",
       "      <th>feat_esm1b_1280</th>\n",
       "    </tr>\n",
       "  </thead>\n",
       "  <tbody>\n",
       "    <tr>\n",
       "      <th>0</th>\n",
       "      <td>218</td>\n",
       "      <td>18</td>\n",
       "      <td>0.294185</td>\n",
       "      <td>-0.010953</td>\n",
       "      <td>0.043579</td>\n",
       "      <td>-0.072766</td>\n",
       "      <td>0.235567</td>\n",
       "      <td>-0.055041</td>\n",
       "      <td>-0.495426</td>\n",
       "      <td>-0.154259</td>\n",
       "      <td>...</td>\n",
       "      <td>-0.177248</td>\n",
       "      <td>-0.275432</td>\n",
       "      <td>0.175780</td>\n",
       "      <td>-2.618115</td>\n",
       "      <td>-0.306478</td>\n",
       "      <td>0.248409</td>\n",
       "      <td>-0.144645</td>\n",
       "      <td>-0.163276</td>\n",
       "      <td>0.101016</td>\n",
       "      <td>0.571763</td>\n",
       "    </tr>\n",
       "    <tr>\n",
       "      <th>1</th>\n",
       "      <td>219</td>\n",
       "      <td>18</td>\n",
       "      <td>0.260795</td>\n",
       "      <td>0.016828</td>\n",
       "      <td>-0.012012</td>\n",
       "      <td>-0.066855</td>\n",
       "      <td>0.325146</td>\n",
       "      <td>-0.255945</td>\n",
       "      <td>-0.597614</td>\n",
       "      <td>-0.055613</td>\n",
       "      <td>...</td>\n",
       "      <td>-0.089673</td>\n",
       "      <td>-0.258615</td>\n",
       "      <td>0.063662</td>\n",
       "      <td>-2.660741</td>\n",
       "      <td>-0.227916</td>\n",
       "      <td>0.233011</td>\n",
       "      <td>-0.143840</td>\n",
       "      <td>-0.119282</td>\n",
       "      <td>0.146848</td>\n",
       "      <td>0.507656</td>\n",
       "    </tr>\n",
       "    <tr>\n",
       "      <th>2</th>\n",
       "      <td>220</td>\n",
       "      <td>18</td>\n",
       "      <td>0.184051</td>\n",
       "      <td>0.305131</td>\n",
       "      <td>0.108189</td>\n",
       "      <td>0.129977</td>\n",
       "      <td>0.452808</td>\n",
       "      <td>-0.308754</td>\n",
       "      <td>-0.500337</td>\n",
       "      <td>-0.115194</td>\n",
       "      <td>...</td>\n",
       "      <td>-0.037816</td>\n",
       "      <td>-0.205189</td>\n",
       "      <td>0.220458</td>\n",
       "      <td>-2.610207</td>\n",
       "      <td>-0.156326</td>\n",
       "      <td>0.231606</td>\n",
       "      <td>0.251916</td>\n",
       "      <td>0.077030</td>\n",
       "      <td>0.326192</td>\n",
       "      <td>0.071661</td>\n",
       "    </tr>\n",
       "    <tr>\n",
       "      <th>3</th>\n",
       "      <td>221</td>\n",
       "      <td>18</td>\n",
       "      <td>0.314233</td>\n",
       "      <td>0.128062</td>\n",
       "      <td>0.083666</td>\n",
       "      <td>0.216604</td>\n",
       "      <td>0.312914</td>\n",
       "      <td>-0.370623</td>\n",
       "      <td>-0.347873</td>\n",
       "      <td>0.172393</td>\n",
       "      <td>...</td>\n",
       "      <td>-0.249216</td>\n",
       "      <td>-0.211748</td>\n",
       "      <td>-0.130716</td>\n",
       "      <td>-2.598186</td>\n",
       "      <td>-0.130838</td>\n",
       "      <td>-0.026848</td>\n",
       "      <td>0.167203</td>\n",
       "      <td>-0.394126</td>\n",
       "      <td>0.222274</td>\n",
       "      <td>0.376358</td>\n",
       "    </tr>\n",
       "    <tr>\n",
       "      <th>4</th>\n",
       "      <td>222</td>\n",
       "      <td>18</td>\n",
       "      <td>0.096633</td>\n",
       "      <td>0.163431</td>\n",
       "      <td>-0.031337</td>\n",
       "      <td>0.308982</td>\n",
       "      <td>0.290276</td>\n",
       "      <td>-0.513453</td>\n",
       "      <td>-0.365755</td>\n",
       "      <td>-0.188772</td>\n",
       "      <td>...</td>\n",
       "      <td>-0.039318</td>\n",
       "      <td>-0.250912</td>\n",
       "      <td>-0.093870</td>\n",
       "      <td>-2.414023</td>\n",
       "      <td>-0.253500</td>\n",
       "      <td>0.118345</td>\n",
       "      <td>-0.160718</td>\n",
       "      <td>-0.076750</td>\n",
       "      <td>0.448067</td>\n",
       "      <td>0.326883</td>\n",
       "    </tr>\n",
       "  </tbody>\n",
       "</table>\n",
       "<p>5 rows × 1283 columns</p>\n",
       "</div>"
      ],
      "text/plain": [
       "   Info_pos  Info_cluster  feat_esm1b_0  feat_esm1b_1  feat_esm1b_2  \\\n",
       "0       218            18      0.294185     -0.010953      0.043579   \n",
       "1       219            18      0.260795      0.016828     -0.012012   \n",
       "2       220            18      0.184051      0.305131      0.108189   \n",
       "3       221            18      0.314233      0.128062      0.083666   \n",
       "4       222            18      0.096633      0.163431     -0.031337   \n",
       "\n",
       "   feat_esm1b_3  feat_esm1b_4  feat_esm1b_5  feat_esm1b_6  feat_esm1b_7  ...  \\\n",
       "0     -0.072766      0.235567     -0.055041     -0.495426     -0.154259  ...   \n",
       "1     -0.066855      0.325146     -0.255945     -0.597614     -0.055613  ...   \n",
       "2      0.129977      0.452808     -0.308754     -0.500337     -0.115194  ...   \n",
       "3      0.216604      0.312914     -0.370623     -0.347873      0.172393  ...   \n",
       "4      0.308982      0.290276     -0.513453     -0.365755     -0.188772  ...   \n",
       "\n",
       "   feat_esm1b_1271  feat_esm1b_1272  feat_esm1b_1273  feat_esm1b_1274  \\\n",
       "0        -0.177248        -0.275432         0.175780        -2.618115   \n",
       "1        -0.089673        -0.258615         0.063662        -2.660741   \n",
       "2        -0.037816        -0.205189         0.220458        -2.610207   \n",
       "3        -0.249216        -0.211748        -0.130716        -2.598186   \n",
       "4        -0.039318        -0.250912        -0.093870        -2.414023   \n",
       "\n",
       "   feat_esm1b_1275  feat_esm1b_1276  feat_esm1b_1277  feat_esm1b_1278  \\\n",
       "0        -0.306478         0.248409        -0.144645        -0.163276   \n",
       "1        -0.227916         0.233011        -0.143840        -0.119282   \n",
       "2        -0.156326         0.231606         0.251916         0.077030   \n",
       "3        -0.130838        -0.026848         0.167203        -0.394126   \n",
       "4        -0.253500         0.118345        -0.160718        -0.076750   \n",
       "\n",
       "   feat_esm1b_1279  feat_esm1b_1280  \n",
       "0         0.101016         0.571763  \n",
       "1         0.146848         0.507656  \n",
       "2         0.326192         0.071661  \n",
       "3         0.222274         0.376358  \n",
       "4         0.448067         0.326883  \n",
       "\n",
       "[5 rows x 1283 columns]"
      ]
     },
     "execution_count": 31,
     "metadata": {},
     "output_type": "execute_result"
    }
   ],
   "source": [
    "df[continuous_feature].head()"
   ]
  },
  {
   "cell_type": "code",
   "execution_count": 32,
   "metadata": {},
   "outputs": [
    {
     "data": {
      "image/png": "[encoded data removed]",
      "text/plain": [
       "<Figure size 640x480 with 1 Axes>"
      ]
     },
     "metadata": {},
     "output_type": "display_data"
    },
    {
     "data": {
      "image/png": "[encoded data removed]",
      "text/plain": [
       "<Figure size 640x480 with 1 Axes>"
      ]
     },
     "metadata": {},
     "output_type": "display_data"
    },
    {
     "data": {
      "image/png": "[encoded data removed]",
      "text/plain": [
       "<Figure size 640x480 with 1 Axes>"
      ]
     },
     "metadata": {},
     "output_type": "display_data"
    },
    {
     "data": {
      "image/png": "[encoded data removed]",
      "text/plain": [
       "<Figure size 640x480 with 1 Axes>"
      ]
     },
     "metadata": {},
     "output_type": "display_data"
    },
    {
     "data": {
      "image/png": "[encoded data removed]",
      "text/plain": [
       "<Figure size 640x480 with 1 Axes>"
      ]
     },
     "metadata": {},
     "output_type": "display_data"
    },
    {
     "data": {
      "image/png": "[encoded data removed]",
      "text/plain": [
       "<Figure size 640x480 with 1 Axes>"
      ]
     },
     "metadata": {},
     "output_type": "display_data"
    },
    {
     "data": {
      "image/png": "[encoded data removed]",
      "text/plain": [
       "<Figure size 640x480 with 1 Axes>"
      ]
     },
     "metadata": {},
     "output_type": "display_data"
    },
    {
     "data": {
      "image/png": "[encoded data removed]",
      "text/plain": [
       "<Figure size 640x480 with 1 Axes>"
      ]
     },
     "metadata": {},
     "output_type": "display_data"
    },
    {
     "data": {
      "image/png": "[encoded data removed]",
      "text/plain": [
       "<Figure size 640x480 with 1 Axes>"
      ]
     },
     "metadata": {},
     "output_type": "display_data"
    },
    {
     "data": {
      "image/png": "[encoded data removed]",
      "text/plain": [
       "<Figure size 640x480 with 1 Axes>"
      ]
     },
     "metadata": {},
     "output_type": "display_data"
    },
    {
     "data": {
      "image/png": "[encoded data removed]",
      "text/plain": [
       "<Figure size 640x480 with 1 Axes>"
      ]
     },
     "metadata": {},
     "output_type": "display_data"
    },
    {
     "data": {
      "image/png": "[encoded data removed]",
      "text/plain": [
       "<Figure size 640x480 with 1 Axes>"
      ]
     },
     "metadata": {},
     "output_type": "display_data"
    },
    {
     "data": {
      "image/png": "[encoded data removed]",
      "text/plain": [
       "<Figure size 640x480 with 1 Axes>"
      ]
     },
     "metadata": {},
     "output_type": "display_data"
    },
    {
     "data": {
      "image/png": "[encoded data removed]",
      "text/plain": [
       "<Figure size 640x480 with 1 Axes>"
      ]
     },
     "metadata": {},
     "output_type": "display_data"
    },
    {
     "data": {
      "image/png": "[encoded data removed]",
      "text/plain": [
       "<Figure size 640x480 with 1 Axes>"
      ]
     },
     "metadata": {},
     "output_type": "display_data"
    },
    {
     "data": {
      "image/png": "[encoded data removed]",
      "text/plain": [
       "<Figure size 640x480 with 1 Axes>"
      ]
     },
     "metadata": {},
     "output_type": "display_data"
    },
    {
     "data": {
      "image/png": "[encoded data removed]",
      "text/plain": [
       "<Figure size 640x480 with 1 Axes>"
      ]
     },
     "metadata": {},
     "output_type": "display_data"
    },
    {
     "data": {
      "image/png": "[encoded data removed]",
      "text/plain": [
       "<Figure size 640x480 with 1 Axes>"
      ]
     },
     "metadata": {},
     "output_type": "display_data"
    },
    {
     "data": {
      "image/png": "[encoded data removed]",
      "text/plain": [
       "<Figure size 640x480 with 1 Axes>"
      ]
     },
     "metadata": {},
     "output_type": "display_data"
    },
    {
     "data": {
      "image/png": "[encoded data removed]",
      "text/plain": [
       "<Figure size 640x480 with 1 Axes>"
      ]
     },
     "metadata": {},
     "output_type": "display_data"
    }
   ],
   "source": [
    "## Lets analyse the continuous values for 20 features by creating histograms to understand the distribution\n",
    "\n",
    "for feature in continuous_feature[:20]:\n",
    "    data=df.copy()\n",
    "    data[feature].hist(bins=25)\n",
    "    plt.xlabel(feature)\n",
    "    plt.ylabel(\"Count\")\n",
    "    plt.title(feature)\n",
    "    plt.show()"
   ]
  },
  {
   "cell_type": "markdown",
   "metadata": {},
   "source": [
    "`Note:` Based on the opservation we need to do:\n",
    "1. Get read of null values\n",
    "2. Convert feature `Info_AA` from categorical to numerical\n",
    "3. Balance the dataset\n",
    "4. Most of the features are normal distributed"
   ]
  },
  {
   "cell_type": "markdown",
   "metadata": {},
   "source": [
    "### Feature Engineering\n",
    "- Handling missing values using imputer\n",
    "- Converting Categorical features into Numerical using label encoder\n",
    "- Handling imbalance dataset using imblearn library"
   ]
  },
  {
   "cell_type": "markdown",
   "metadata": {},
   "source": [
    "#### Handling Missing Values"
   ]
  },
  {
   "cell_type": "code",
   "execution_count": 33,
   "metadata": {
    "tags": []
   },
   "outputs": [],
   "source": [
    "from sklearn.impute import SimpleImputer\n",
    "# Initialize SimpleImputer with strategy 'mean'\n",
    "imputer = SimpleImputer(strategy='mean')"
   ]
  },
  {
   "cell_type": "code",
   "execution_count": 34,
   "metadata": {
    "tags": []
   },
   "outputs": [],
   "source": [
    "# for col in continuous_feature:\n",
    "df[continuous_feature] = imputer.fit_transform(df[continuous_feature])"
   ]
  },
  {
   "cell_type": "code",
   "execution_count": 35,
   "metadata": {
    "tags": []
   },
   "outputs": [
    {
     "data": {
      "text/plain": [
       "Info_pos           0\n",
       "Info_AA            0\n",
       "Info_nPos          0\n",
       "Info_nNeg          0\n",
       "Info_cluster       0\n",
       "                  ..\n",
       "feat_esm1b_1276    0\n",
       "feat_esm1b_1277    0\n",
       "feat_esm1b_1278    0\n",
       "feat_esm1b_1279    0\n",
       "feat_esm1b_1280    0\n",
       "Length: 1287, dtype: int64"
      ]
     },
     "execution_count": 35,
     "metadata": {},
     "output_type": "execute_result"
    }
   ],
   "source": [
    "df.isnull().sum()"
   ]
  },
  {
   "cell_type": "markdown",
   "metadata": {},
   "source": [
    "#### Converting Categorical features into Numerical"
   ]
  },
  {
   "cell_type": "code",
   "execution_count": 36,
   "metadata": {
    "tags": []
   },
   "outputs": [],
   "source": [
    "from sklearn.preprocessing import LabelEncoder\n",
    " \n",
    "le = LabelEncoder()"
   ]
  },
  {
   "cell_type": "code",
   "execution_count": 37,
   "metadata": {
    "tags": []
   },
   "outputs": [],
   "source": [
    "df['Info_AA'] = le.fit_transform(df['Info_AA'])"
   ]
  },
  {
   "cell_type": "code",
   "execution_count": 38,
   "metadata": {
    "tags": []
   },
   "outputs": [
    {
     "data": {
      "text/plain": [
       "array([ 3,  2, 11,  8, 13, 15,  0, 17,  5, 12,  4,  9, 14,  7, 19, 16, 18,\n",
       "       10,  6,  1])"
      ]
     },
     "execution_count": 38,
     "metadata": {},
     "output_type": "execute_result"
    }
   ],
   "source": [
    "df['Info_AA'].unique()"
   ]
  },
  {
   "cell_type": "markdown",
   "metadata": {},
   "source": [
    "#### Handling imbalance dataset"
   ]
  },
  {
   "cell_type": "code",
   "execution_count": 39,
   "metadata": {
    "tags": []
   },
   "outputs": [],
   "source": [
    "from imblearn.under_sampling import RandomUnderSampler"
   ]
  },
  {
   "cell_type": "code",
   "execution_count": 40,
   "metadata": {
    "tags": []
   },
   "outputs": [],
   "source": [
    "from imblearn.combine import SMOTETomek\n",
    "os_us = SMOTETomek(random_state=42)\n",
    "\n",
    "\n",
    "X = df.drop('Class', axis=1)\n",
    "y = df['Class']\n",
    "\n",
    "X_1, y_1 = os_us.fit_resample(X, y)"
   ]
  },
  {
   "cell_type": "code",
   "execution_count": 41,
   "metadata": {
    "tags": []
   },
   "outputs": [
    {
     "name": "stderr",
     "output_type": "stream",
     "text": [
      "C:\\Users\\44787\\AppData\\Local\\Temp\\ipykernel_10632\\1284558675.py:2: PerformanceWarning: DataFrame is highly fragmented.  This is usually the result of calling `frame.insert` many times, which has poor performance.  Consider joining all columns at once using pd.concat(axis=1) instead. To get a de-fragmented frame, use `newframe = frame.copy()`\n",
      "  df_new['Class'] = y_1\n"
     ]
    },
    {
     "data": {
      "text/html": [
       "<div>\n",
       "<style scoped>\n",
       "    .dataframe tbody tr th:only-of-type {\n",
       "        vertical-align: middle;\n",
       "    }\n",
       "\n",
       "    .dataframe tbody tr th {\n",
       "        vertical-align: top;\n",
       "    }\n",
       "\n",
       "    .dataframe thead th {\n",
       "        text-align: right;\n",
       "    }\n",
       "</style>\n",
       "<table border=\"1\" class=\"dataframe\">\n",
       "  <thead>\n",
       "    <tr style=\"text-align: right;\">\n",
       "      <th></th>\n",
       "      <th>Info_pos</th>\n",
       "      <th>Info_AA</th>\n",
       "      <th>Info_nPos</th>\n",
       "      <th>Info_nNeg</th>\n",
       "      <th>Info_cluster</th>\n",
       "      <th>feat_esm1b_0</th>\n",
       "      <th>feat_esm1b_1</th>\n",
       "      <th>feat_esm1b_2</th>\n",
       "      <th>feat_esm1b_3</th>\n",
       "      <th>feat_esm1b_4</th>\n",
       "      <th>...</th>\n",
       "      <th>feat_esm1b_1272</th>\n",
       "      <th>feat_esm1b_1273</th>\n",
       "      <th>feat_esm1b_1274</th>\n",
       "      <th>feat_esm1b_1275</th>\n",
       "      <th>feat_esm1b_1276</th>\n",
       "      <th>feat_esm1b_1277</th>\n",
       "      <th>feat_esm1b_1278</th>\n",
       "      <th>feat_esm1b_1279</th>\n",
       "      <th>feat_esm1b_1280</th>\n",
       "      <th>Class</th>\n",
       "    </tr>\n",
       "  </thead>\n",
       "  <tbody>\n",
       "    <tr>\n",
       "      <th>0</th>\n",
       "      <td>218.0</td>\n",
       "      <td>3</td>\n",
       "      <td>1</td>\n",
       "      <td>0</td>\n",
       "      <td>18.0</td>\n",
       "      <td>0.294185</td>\n",
       "      <td>-0.010953</td>\n",
       "      <td>0.043579</td>\n",
       "      <td>-0.072766</td>\n",
       "      <td>0.235567</td>\n",
       "      <td>...</td>\n",
       "      <td>-0.275432</td>\n",
       "      <td>0.175780</td>\n",
       "      <td>-2.618115</td>\n",
       "      <td>-0.306478</td>\n",
       "      <td>0.248409</td>\n",
       "      <td>-0.144645</td>\n",
       "      <td>-0.163276</td>\n",
       "      <td>0.101016</td>\n",
       "      <td>0.571763</td>\n",
       "      <td>1</td>\n",
       "    </tr>\n",
       "    <tr>\n",
       "      <th>1</th>\n",
       "      <td>219.0</td>\n",
       "      <td>3</td>\n",
       "      <td>1</td>\n",
       "      <td>0</td>\n",
       "      <td>18.0</td>\n",
       "      <td>0.260795</td>\n",
       "      <td>0.016828</td>\n",
       "      <td>-0.012012</td>\n",
       "      <td>-0.066855</td>\n",
       "      <td>0.325146</td>\n",
       "      <td>...</td>\n",
       "      <td>-0.258615</td>\n",
       "      <td>0.063662</td>\n",
       "      <td>-2.660741</td>\n",
       "      <td>-0.227916</td>\n",
       "      <td>0.233011</td>\n",
       "      <td>-0.143840</td>\n",
       "      <td>-0.119282</td>\n",
       "      <td>0.146848</td>\n",
       "      <td>0.507656</td>\n",
       "      <td>1</td>\n",
       "    </tr>\n",
       "    <tr>\n",
       "      <th>2</th>\n",
       "      <td>220.0</td>\n",
       "      <td>2</td>\n",
       "      <td>1</td>\n",
       "      <td>0</td>\n",
       "      <td>18.0</td>\n",
       "      <td>0.184051</td>\n",
       "      <td>0.305131</td>\n",
       "      <td>0.108189</td>\n",
       "      <td>0.129977</td>\n",
       "      <td>0.452808</td>\n",
       "      <td>...</td>\n",
       "      <td>-0.205189</td>\n",
       "      <td>0.220458</td>\n",
       "      <td>-2.610207</td>\n",
       "      <td>-0.156326</td>\n",
       "      <td>0.231606</td>\n",
       "      <td>0.251916</td>\n",
       "      <td>0.077030</td>\n",
       "      <td>0.326192</td>\n",
       "      <td>0.071661</td>\n",
       "      <td>1</td>\n",
       "    </tr>\n",
       "    <tr>\n",
       "      <th>3</th>\n",
       "      <td>221.0</td>\n",
       "      <td>11</td>\n",
       "      <td>1</td>\n",
       "      <td>0</td>\n",
       "      <td>18.0</td>\n",
       "      <td>0.314233</td>\n",
       "      <td>0.128062</td>\n",
       "      <td>0.083666</td>\n",
       "      <td>0.216604</td>\n",
       "      <td>0.312914</td>\n",
       "      <td>...</td>\n",
       "      <td>-0.211748</td>\n",
       "      <td>-0.130716</td>\n",
       "      <td>-2.598186</td>\n",
       "      <td>-0.130838</td>\n",
       "      <td>-0.026848</td>\n",
       "      <td>0.167203</td>\n",
       "      <td>-0.394126</td>\n",
       "      <td>0.222274</td>\n",
       "      <td>0.376358</td>\n",
       "      <td>1</td>\n",
       "    </tr>\n",
       "    <tr>\n",
       "      <th>4</th>\n",
       "      <td>222.0</td>\n",
       "      <td>3</td>\n",
       "      <td>1</td>\n",
       "      <td>0</td>\n",
       "      <td>18.0</td>\n",
       "      <td>0.096633</td>\n",
       "      <td>0.163431</td>\n",
       "      <td>-0.031337</td>\n",
       "      <td>0.308982</td>\n",
       "      <td>0.290276</td>\n",
       "      <td>...</td>\n",
       "      <td>-0.250912</td>\n",
       "      <td>-0.093870</td>\n",
       "      <td>-2.414023</td>\n",
       "      <td>-0.253500</td>\n",
       "      <td>0.118345</td>\n",
       "      <td>-0.160718</td>\n",
       "      <td>-0.076750</td>\n",
       "      <td>0.448067</td>\n",
       "      <td>0.326883</td>\n",
       "      <td>1</td>\n",
       "    </tr>\n",
       "  </tbody>\n",
       "</table>\n",
       "<p>5 rows × 1287 columns</p>\n",
       "</div>"
      ],
      "text/plain": [
       "   Info_pos  Info_AA  Info_nPos  Info_nNeg  Info_cluster  feat_esm1b_0  \\\n",
       "0     218.0        3          1          0          18.0      0.294185   \n",
       "1     219.0        3          1          0          18.0      0.260795   \n",
       "2     220.0        2          1          0          18.0      0.184051   \n",
       "3     221.0       11          1          0          18.0      0.314233   \n",
       "4     222.0        3          1          0          18.0      0.096633   \n",
       "\n",
       "   feat_esm1b_1  feat_esm1b_2  feat_esm1b_3  feat_esm1b_4  ...  \\\n",
       "0     -0.010953      0.043579     -0.072766      0.235567  ...   \n",
       "1      0.016828     -0.012012     -0.066855      0.325146  ...   \n",
       "2      0.305131      0.108189      0.129977      0.452808  ...   \n",
       "3      0.128062      0.083666      0.216604      0.312914  ...   \n",
       "4      0.163431     -0.031337      0.308982      0.290276  ...   \n",
       "\n",
       "   feat_esm1b_1272  feat_esm1b_1273  feat_esm1b_1274  feat_esm1b_1275  \\\n",
       "0        -0.275432         0.175780        -2.618115        -0.306478   \n",
       "1        -0.258615         0.063662        -2.660741        -0.227916   \n",
       "2        -0.205189         0.220458        -2.610207        -0.156326   \n",
       "3        -0.211748        -0.130716        -2.598186        -0.130838   \n",
       "4        -0.250912        -0.093870        -2.414023        -0.253500   \n",
       "\n",
       "   feat_esm1b_1276  feat_esm1b_1277  feat_esm1b_1278  feat_esm1b_1279  \\\n",
       "0         0.248409        -0.144645        -0.163276         0.101016   \n",
       "1         0.233011        -0.143840        -0.119282         0.146848   \n",
       "2         0.231606         0.251916         0.077030         0.326192   \n",
       "3        -0.026848         0.167203        -0.394126         0.222274   \n",
       "4         0.118345        -0.160718        -0.076750         0.448067   \n",
       "\n",
       "   feat_esm1b_1280  Class  \n",
       "0         0.571763      1  \n",
       "1         0.507656      1  \n",
       "2         0.071661      1  \n",
       "3         0.376358      1  \n",
       "4         0.326883      1  \n",
       "\n",
       "[5 rows x 1287 columns]"
      ]
     },
     "execution_count": 41,
     "metadata": {},
     "output_type": "execute_result"
    }
   ],
   "source": [
    "df_new = X_1\n",
    "df_new['Class'] = y_1\n",
    "\n",
    "df_new.head()"
   ]
  },
  {
   "cell_type": "code",
   "execution_count": 42,
   "metadata": {
    "tags": []
   },
   "outputs": [
    {
     "data": {
      "text/plain": [
       "1    48797\n",
       "0    48797\n",
       "Name: Class, dtype: int64"
      ]
     },
     "execution_count": 42,
     "metadata": {},
     "output_type": "execute_result"
    }
   ],
   "source": [
    "df_new.Class.value_counts()"
   ]
  },
  {
   "cell_type": "markdown",
   "metadata": {},
   "source": [
    "### Feature Selection\n",
    "- We will use below techniques to select the best features:\n",
    "    - sklearn select from model api"
   ]
  },
  {
   "cell_type": "code",
   "execution_count": 43,
   "metadata": {
    "tags": []
   },
   "outputs": [
    {
     "data": {
      "text/html": [
       "<style>#sk-container-id-1 {\n",
       "  /* Definition of color scheme common for light and dark mode */\n",
       "  --sklearn-color-text: black;\n",
       "  --sklearn-color-line: gray;\n",
       "  /* Definition of color scheme for unfitted estimators */\n",
       "  --sklearn-color-unfitted-level-0: #fff5e6;\n",
       "  --sklearn-color-unfitted-level-1: #f6e4d2;\n",
       "  --sklearn-color-unfitted-level-2: #ffe0b3;\n",
       "  --sklearn-color-unfitted-level-3: chocolate;\n",
       "  /* Definition of color scheme for fitted estimators */\n",
       "  --sklearn-color-fitted-level-0: #f0f8ff;\n",
       "  --sklearn-color-fitted-level-1: #d4ebff;\n",
       "  --sklearn-color-fitted-level-2: #b3dbfd;\n",
       "  --sklearn-color-fitted-level-3: cornflowerblue;\n",
       "\n",
       "  /* Specific color for light theme */\n",
       "  --sklearn-color-text-on-default-background: var(--sg-text-color, var(--theme-code-foreground, var(--jp-content-font-color1, black)));\n",
       "  --sklearn-color-background: var(--sg-background-color, var(--theme-background, var(--jp-layout-color0, white)));\n",
       "  --sklearn-color-border-box: var(--sg-text-color, var(--theme-code-foreground, var(--jp-content-font-color1, black)));\n",
       "  --sklearn-color-icon: #696969;\n",
       "\n",
       "  @media (prefers-color-scheme: dark) {\n",
       "    /* Redefinition of color scheme for dark theme */\n",
       "    --sklearn-color-text-on-default-background: var(--sg-text-color, var(--theme-code-foreground, var(--jp-content-font-color1, white)));\n",
       "    --sklearn-color-background: var(--sg-background-color, var(--theme-background, var(--jp-layout-color0, #111)));\n",
       "    --sklearn-color-border-box: var(--sg-text-color, var(--theme-code-foreground, var(--jp-content-font-color1, white)));\n",
       "    --sklearn-color-icon: #878787;\n",
       "  }\n",
       "}\n",
       "\n",
       "#sk-container-id-1 {\n",
       "  color: var(--sklearn-color-text);\n",
       "}\n",
       "\n",
       "#sk-container-id-1 pre {\n",
       "  padding: 0;\n",
       "}\n",
       "\n",
       "#sk-container-id-1 input.sk-hidden--visually {\n",
       "  border: 0;\n",
       "  clip: rect(1px 1px 1px 1px);\n",
       "  clip: rect(1px, 1px, 1px, 1px);\n",
       "  height: 1px;\n",
       "  margin: -1px;\n",
       "  overflow: hidden;\n",
       "  padding: 0;\n",
       "  position: absolute;\n",
       "  width: 1px;\n",
       "}\n",
       "\n",
       "#sk-container-id-1 div.sk-dashed-wrapped {\n",
       "  border: 1px dashed var(--sklearn-color-line);\n",
       "  margin: 0 0.4em 0.5em 0.4em;\n",
       "  box-sizing: border-box;\n",
       "  padding-bottom: 0.4em;\n",
       "  background-color: var(--sklearn-color-background);\n",
       "}\n",
       "\n",
       "#sk-container-id-1 div.sk-container {\n",
       "  /* jupyter's `normalize.less` sets `[hidden] { display: none; }`\n",
       "     but bootstrap.min.css set `[hidden] { display: none !important; }`\n",
       "     so we also need the `!important` here to be able to override the\n",
       "     default hidden behavior on the sphinx rendered scikit-learn.org.\n",
       "     See: https://github.com/scikit-learn/scikit-learn/issues/21755 */\n",
       "  display: inline-block !important;\n",
       "  position: relative;\n",
       "}\n",
       "\n",
       "#sk-container-id-1 div.sk-text-repr-fallback {\n",
       "  display: none;\n",
       "}\n",
       "\n",
       "div.sk-parallel-item,\n",
       "div.sk-serial,\n",
       "div.sk-item {\n",
       "  /* draw centered vertical line to link estimators */\n",
       "  background-image: linear-gradient(var(--sklearn-color-text-on-default-background), var(--sklearn-color-text-on-default-background));\n",
       "  background-size: 2px 100%;\n",
       "  background-repeat: no-repeat;\n",
       "  background-position: center center;\n",
       "}\n",
       "\n",
       "/* Parallel-specific style estimator block */\n",
       "\n",
       "#sk-container-id-1 div.sk-parallel-item::after {\n",
       "  content: \"\";\n",
       "  width: 100%;\n",
       "  border-bottom: 2px solid var(--sklearn-color-text-on-default-background);\n",
       "  flex-grow: 1;\n",
       "}\n",
       "\n",
       "#sk-container-id-1 div.sk-parallel {\n",
       "  display: flex;\n",
       "  align-items: stretch;\n",
       "  justify-content: center;\n",
       "  background-color: var(--sklearn-color-background);\n",
       "  position: relative;\n",
       "}\n",
       "\n",
       "#sk-container-id-1 div.sk-parallel-item {\n",
       "  display: flex;\n",
       "  flex-direction: column;\n",
       "}\n",
       "\n",
       "#sk-container-id-1 div.sk-parallel-item:first-child::after {\n",
       "  align-self: flex-end;\n",
       "  width: 50%;\n",
       "}\n",
       "\n",
       "#sk-container-id-1 div.sk-parallel-item:last-child::after {\n",
       "  align-self: flex-start;\n",
       "  width: 50%;\n",
       "}\n",
       "\n",
       "#sk-container-id-1 div.sk-parallel-item:only-child::after {\n",
       "  width: 0;\n",
       "}\n",
       "\n",
       "/* Serial-specific style estimator block */\n",
       "\n",
       "#sk-container-id-1 div.sk-serial {\n",
       "  display: flex;\n",
       "  flex-direction: column;\n",
       "  align-items: center;\n",
       "  background-color: var(--sklearn-color-background);\n",
       "  padding-right: 1em;\n",
       "  padding-left: 1em;\n",
       "}\n",
       "\n",
       "\n",
       "/* Toggleable style: style used for estimator/Pipeline/ColumnTransformer box that is\n",
       "clickable and can be expanded/collapsed.\n",
       "- Pipeline and ColumnTransformer use this feature and define the default style\n",
       "- Estimators will overwrite some part of the style using the `sk-estimator` class\n",
       "*/\n",
       "\n",
       "/* Pipeline and ColumnTransformer style (default) */\n",
       "\n",
       "#sk-container-id-1 div.sk-toggleable {\n",
       "  /* Default theme specific background. It is overwritten whether we have a\n",
       "  specific estimator or a Pipeline/ColumnTransformer */\n",
       "  background-color: var(--sklearn-color-background);\n",
       "}\n",
       "\n",
       "/* Toggleable label */\n",
       "#sk-container-id-1 label.sk-toggleable__label {\n",
       "  cursor: pointer;\n",
       "  display: block;\n",
       "  width: 100%;\n",
       "  margin-bottom: 0;\n",
       "  padding: 0.5em;\n",
       "  box-sizing: border-box;\n",
       "  text-align: center;\n",
       "}\n",
       "\n",
       "#sk-container-id-1 label.sk-toggleable__label-arrow:before {\n",
       "  /* Arrow on the left of the label */\n",
       "  content: \"▸\";\n",
       "  float: left;\n",
       "  margin-right: 0.25em;\n",
       "  color: var(--sklearn-color-icon);\n",
       "}\n",
       "\n",
       "#sk-container-id-1 label.sk-toggleable__label-arrow:hover:before {\n",
       "  color: var(--sklearn-color-text);\n",
       "}\n",
       "\n",
       "/* Toggleable content - dropdown */\n",
       "\n",
       "#sk-container-id-1 div.sk-toggleable__content {\n",
       "  max-height: 0;\n",
       "  max-width: 0;\n",
       "  overflow: hidden;\n",
       "  text-align: left;\n",
       "  /* unfitted */\n",
       "  background-color: var(--sklearn-color-unfitted-level-0);\n",
       "}\n",
       "\n",
       "#sk-container-id-1 div.sk-toggleable__content.fitted {\n",
       "  /* fitted */\n",
       "  background-color: var(--sklearn-color-fitted-level-0);\n",
       "}\n",
       "\n",
       "#sk-container-id-1 div.sk-toggleable__content pre {\n",
       "  margin: 0.2em;\n",
       "  border-radius: 0.25em;\n",
       "  color: var(--sklearn-color-text);\n",
       "  /* unfitted */\n",
       "  background-color: var(--sklearn-color-unfitted-level-0);\n",
       "}\n",
       "\n",
       "#sk-container-id-1 div.sk-toggleable__content.fitted pre {\n",
       "  /* unfitted */\n",
       "  background-color: var(--sklearn-color-fitted-level-0);\n",
       "}\n",
       "\n",
       "#sk-container-id-1 input.sk-toggleable__control:checked~div.sk-toggleable__content {\n",
       "  /* Expand drop-down */\n",
       "  max-height: 200px;\n",
       "  max-width: 100%;\n",
       "  overflow: auto;\n",
       "}\n",
       "\n",
       "#sk-container-id-1 input.sk-toggleable__control:checked~label.sk-toggleable__label-arrow:before {\n",
       "  content: \"▾\";\n",
       "}\n",
       "\n",
       "/* Pipeline/ColumnTransformer-specific style */\n",
       "\n",
       "#sk-container-id-1 div.sk-label input.sk-toggleable__control:checked~label.sk-toggleable__label {\n",
       "  color: var(--sklearn-color-text);\n",
       "  background-color: var(--sklearn-color-unfitted-level-2);\n",
       "}\n",
       "\n",
       "#sk-container-id-1 div.sk-label.fitted input.sk-toggleable__control:checked~label.sk-toggleable__label {\n",
       "  background-color: var(--sklearn-color-fitted-level-2);\n",
       "}\n",
       "\n",
       "/* Estimator-specific style */\n",
       "\n",
       "/* Colorize estimator box */\n",
       "#sk-container-id-1 div.sk-estimator input.sk-toggleable__control:checked~label.sk-toggleable__label {\n",
       "  /* unfitted */\n",
       "  background-color: var(--sklearn-color-unfitted-level-2);\n",
       "}\n",
       "\n",
       "#sk-container-id-1 div.sk-estimator.fitted input.sk-toggleable__control:checked~label.sk-toggleable__label {\n",
       "  /* fitted */\n",
       "  background-color: var(--sklearn-color-fitted-level-2);\n",
       "}\n",
       "\n",
       "#sk-container-id-1 div.sk-label label.sk-toggleable__label,\n",
       "#sk-container-id-1 div.sk-label label {\n",
       "  /* The background is the default theme color */\n",
       "  color: var(--sklearn-color-text-on-default-background);\n",
       "}\n",
       "\n",
       "/* On hover, darken the color of the background */\n",
       "#sk-container-id-1 div.sk-label:hover label.sk-toggleable__label {\n",
       "  color: var(--sklearn-color-text);\n",
       "  background-color: var(--sklearn-color-unfitted-level-2);\n",
       "}\n",
       "\n",
       "/* Label box, darken color on hover, fitted */\n",
       "#sk-container-id-1 div.sk-label.fitted:hover label.sk-toggleable__label.fitted {\n",
       "  color: var(--sklearn-color-text);\n",
       "  background-color: var(--sklearn-color-fitted-level-2);\n",
       "}\n",
       "\n",
       "/* Estimator label */\n",
       "\n",
       "#sk-container-id-1 div.sk-label label {\n",
       "  font-family: monospace;\n",
       "  font-weight: bold;\n",
       "  display: inline-block;\n",
       "  line-height: 1.2em;\n",
       "}\n",
       "\n",
       "#sk-container-id-1 div.sk-label-container {\n",
       "  text-align: center;\n",
       "}\n",
       "\n",
       "/* Estimator-specific */\n",
       "#sk-container-id-1 div.sk-estimator {\n",
       "  font-family: monospace;\n",
       "  border: 1px dotted var(--sklearn-color-border-box);\n",
       "  border-radius: 0.25em;\n",
       "  box-sizing: border-box;\n",
       "  margin-bottom: 0.5em;\n",
       "  /* unfitted */\n",
       "  background-color: var(--sklearn-color-unfitted-level-0);\n",
       "}\n",
       "\n",
       "#sk-container-id-1 div.sk-estimator.fitted {\n",
       "  /* fitted */\n",
       "  background-color: var(--sklearn-color-fitted-level-0);\n",
       "}\n",
       "\n",
       "/* on hover */\n",
       "#sk-container-id-1 div.sk-estimator:hover {\n",
       "  /* unfitted */\n",
       "  background-color: var(--sklearn-color-unfitted-level-2);\n",
       "}\n",
       "\n",
       "#sk-container-id-1 div.sk-estimator.fitted:hover {\n",
       "  /* fitted */\n",
       "  background-color: var(--sklearn-color-fitted-level-2);\n",
       "}\n",
       "\n",
       "/* Specification for estimator info (e.g. \"i\" and \"?\") */\n",
       "\n",
       "/* Common style for \"i\" and \"?\" */\n",
       "\n",
       ".sk-estimator-doc-link,\n",
       "a:link.sk-estimator-doc-link,\n",
       "a:visited.sk-estimator-doc-link {\n",
       "  float: right;\n",
       "  font-size: smaller;\n",
       "  line-height: 1em;\n",
       "  font-family: monospace;\n",
       "  background-color: var(--sklearn-color-background);\n",
       "  border-radius: 1em;\n",
       "  height: 1em;\n",
       "  width: 1em;\n",
       "  text-decoration: none !important;\n",
       "  margin-left: 1ex;\n",
       "  /* unfitted */\n",
       "  border: var(--sklearn-color-unfitted-level-1) 1pt solid;\n",
       "  color: var(--sklearn-color-unfitted-level-1);\n",
       "}\n",
       "\n",
       ".sk-estimator-doc-link.fitted,\n",
       "a:link.sk-estimator-doc-link.fitted,\n",
       "a:visited.sk-estimator-doc-link.fitted {\n",
       "  /* fitted */\n",
       "  border: var(--sklearn-color-fitted-level-1) 1pt solid;\n",
       "  color: var(--sklearn-color-fitted-level-1);\n",
       "}\n",
       "\n",
       "/* On hover */\n",
       "div.sk-estimator:hover .sk-estimator-doc-link:hover,\n",
       ".sk-estimator-doc-link:hover,\n",
       "div.sk-label-container:hover .sk-estimator-doc-link:hover,\n",
       ".sk-estimator-doc-link:hover {\n",
       "  /* unfitted */\n",
       "  background-color: var(--sklearn-color-unfitted-level-3);\n",
       "  color: var(--sklearn-color-background);\n",
       "  text-decoration: none;\n",
       "}\n",
       "\n",
       "div.sk-estimator.fitted:hover .sk-estimator-doc-link.fitted:hover,\n",
       ".sk-estimator-doc-link.fitted:hover,\n",
       "div.sk-label-container:hover .sk-estimator-doc-link.fitted:hover,\n",
       ".sk-estimator-doc-link.fitted:hover {\n",
       "  /* fitted */\n",
       "  background-color: var(--sklearn-color-fitted-level-3);\n",
       "  color: var(--sklearn-color-background);\n",
       "  text-decoration: none;\n",
       "}\n",
       "\n",
       "/* Span, style for the box shown on hovering the info icon */\n",
       ".sk-estimator-doc-link span {\n",
       "  display: none;\n",
       "  z-index: 9999;\n",
       "  position: relative;\n",
       "  font-weight: normal;\n",
       "  right: .2ex;\n",
       "  padding: .5ex;\n",
       "  margin: .5ex;\n",
       "  width: min-content;\n",
       "  min-width: 20ex;\n",
       "  max-width: 50ex;\n",
       "  color: var(--sklearn-color-text);\n",
       "  box-shadow: 2pt 2pt 4pt #999;\n",
       "  /* unfitted */\n",
       "  background: var(--sklearn-color-unfitted-level-0);\n",
       "  border: .5pt solid var(--sklearn-color-unfitted-level-3);\n",
       "}\n",
       "\n",
       ".sk-estimator-doc-link.fitted span {\n",
       "  /* fitted */\n",
       "  background: var(--sklearn-color-fitted-level-0);\n",
       "  border: var(--sklearn-color-fitted-level-3);\n",
       "}\n",
       "\n",
       ".sk-estimator-doc-link:hover span {\n",
       "  display: block;\n",
       "}\n",
       "\n",
       "/* \"?\"-specific style due to the `<a>` HTML tag */\n",
       "\n",
       "#sk-container-id-1 a.estimator_doc_link {\n",
       "  float: right;\n",
       "  font-size: 1rem;\n",
       "  line-height: 1em;\n",
       "  font-family: monospace;\n",
       "  background-color: var(--sklearn-color-background);\n",
       "  border-radius: 1rem;\n",
       "  height: 1rem;\n",
       "  width: 1rem;\n",
       "  text-decoration: none;\n",
       "  /* unfitted */\n",
       "  color: var(--sklearn-color-unfitted-level-1);\n",
       "  border: var(--sklearn-color-unfitted-level-1) 1pt solid;\n",
       "}\n",
       "\n",
       "#sk-container-id-1 a.estimator_doc_link.fitted {\n",
       "  /* fitted */\n",
       "  border: var(--sklearn-color-fitted-level-1) 1pt solid;\n",
       "  color: var(--sklearn-color-fitted-level-1);\n",
       "}\n",
       "\n",
       "/* On hover */\n",
       "#sk-container-id-1 a.estimator_doc_link:hover {\n",
       "  /* unfitted */\n",
       "  background-color: var(--sklearn-color-unfitted-level-3);\n",
       "  color: var(--sklearn-color-background);\n",
       "  text-decoration: none;\n",
       "}\n",
       "\n",
       "#sk-container-id-1 a.estimator_doc_link.fitted:hover {\n",
       "  /* fitted */\n",
       "  background-color: var(--sklearn-color-fitted-level-3);\n",
       "}\n",
       "</style><div id=\"sk-container-id-1\" class=\"sk-top-container\"><div class=\"sk-text-repr-fallback\"><pre>SelectFromModel(estimator=Lasso(alpha=0.001, random_state=42))</pre><b>In a Jupyter environment, please rerun this cell to show the HTML representation or trust the notebook. <br />On GitHub, the HTML representation is unable to render, please try loading this page with nbviewer.org.</b></div><div class=\"sk-container\" hidden><div class=\"sk-item sk-dashed-wrapped\"><div class=\"sk-label-container\"><div class=\"sk-label fitted sk-toggleable\"><input class=\"sk-toggleable__control sk-hidden--visually\" id=\"sk-estimator-id-1\" type=\"checkbox\" ><label for=\"sk-estimator-id-1\" class=\"sk-toggleable__label fitted sk-toggleable__label-arrow fitted\">&nbsp;&nbsp;SelectFromModel<a class=\"sk-estimator-doc-link fitted\" rel=\"noreferrer\" target=\"_blank\" href=\"https://scikit-learn.org/1.4/modules/generated/sklearn.feature_selection.SelectFromModel.html\">?<span>Documentation for SelectFromModel</span></a><span class=\"sk-estimator-doc-link fitted\">i<span>Fitted</span></span></label><div class=\"sk-toggleable__content fitted\"><pre>SelectFromModel(estimator=Lasso(alpha=0.001, random_state=42))</pre></div> </div></div><div class=\"sk-parallel\"><div class=\"sk-parallel-item\"><div class=\"sk-item\"><div class=\"sk-label-container\"><div class=\"sk-label fitted sk-toggleable\"><input class=\"sk-toggleable__control sk-hidden--visually\" id=\"sk-estimator-id-2\" type=\"checkbox\" ><label for=\"sk-estimator-id-2\" class=\"sk-toggleable__label fitted sk-toggleable__label-arrow fitted\">estimator: Lasso</label><div class=\"sk-toggleable__content fitted\"><pre>Lasso(alpha=0.001, random_state=42)</pre></div> </div></div><div class=\"sk-serial\"><div class=\"sk-item\"><div class=\"sk-estimator fitted sk-toggleable\"><input class=\"sk-toggleable__control sk-hidden--visually\" id=\"sk-estimator-id-3\" type=\"checkbox\" ><label for=\"sk-estimator-id-3\" class=\"sk-toggleable__label fitted sk-toggleable__label-arrow fitted\">&nbsp;Lasso<a class=\"sk-estimator-doc-link fitted\" rel=\"noreferrer\" target=\"_blank\" href=\"https://scikit-learn.org/1.4/modules/generated/sklearn.linear_model.Lasso.html\">?<span>Documentation for Lasso</span></a></label><div class=\"sk-toggleable__content fitted\"><pre>Lasso(alpha=0.001, random_state=42)</pre></div> </div></div></div></div></div></div></div></div></div>"
      ],
      "text/plain": [
       "SelectFromModel(estimator=Lasso(alpha=0.001, random_state=42))"
      ]
     },
     "execution_count": 43,
     "metadata": {},
     "output_type": "execute_result"
    }
   ],
   "source": [
    "from sklearn.linear_model import Lasso\n",
    "from sklearn.feature_selection import SelectFromModel\n",
    "\n",
    "X_train = df_new.drop('Class', axis=1)\n",
    "y_train = df_new['Class']\n",
    "\n",
    "feature_sel_model = SelectFromModel(Lasso(alpha=0.001, random_state=42))\n",
    "feature_sel_model.fit(X_train, y_train)"
   ]
  },
  {
   "cell_type": "code",
   "execution_count": 44,
   "metadata": {
    "tags": []
   },
   "outputs": [
    {
     "name": "stdout",
     "output_type": "stream",
     "text": [
      "total features: 1286\n",
      "selected features: 31\n"
     ]
    }
   ],
   "source": [
    "# let's print the number of total and selected features\n",
    "\n",
    "# this is how we can make a list of the selected features\n",
    "selected_feat = X_train.columns[(feature_sel_model.get_support())]\n",
    "\n",
    "# let's print some stats\n",
    "print('total features: {}'.format((X_train.shape[1])))\n",
    "print('selected features: {}'.format(len(selected_feat)))"
   ]
  },
  {
   "cell_type": "code",
   "execution_count": 45,
   "metadata": {
    "tags": []
   },
   "outputs": [
    {
     "data": {
      "text/plain": [
       "Index(['Info_AA', 'Info_nPos', 'Info_nNeg', 'Info_cluster', 'feat_esm1b_69',\n",
       "       'feat_esm1b_114', 'feat_esm1b_150', 'feat_esm1b_187', 'feat_esm1b_325',\n",
       "       'feat_esm1b_381', 'feat_esm1b_486', 'feat_esm1b_503', 'feat_esm1b_646',\n",
       "       'feat_esm1b_651', 'feat_esm1b_659', 'feat_esm1b_723', 'feat_esm1b_750',\n",
       "       'feat_esm1b_789', 'feat_esm1b_801', 'feat_esm1b_830', 'feat_esm1b_908',\n",
       "       'feat_esm1b_937', 'feat_esm1b_953', 'feat_esm1b_975', 'feat_esm1b_1033',\n",
       "       'feat_esm1b_1060', 'feat_esm1b_1114', 'feat_esm1b_1148',\n",
       "       'feat_esm1b_1204', 'feat_esm1b_1231', 'feat_esm1b_1274'],\n",
       "      dtype='object')"
      ]
     },
     "execution_count": 45,
     "metadata": {},
     "output_type": "execute_result"
    }
   ],
   "source": [
    "selected_feat"
   ]
  },
  {
   "cell_type": "code",
   "execution_count": 46,
   "metadata": {
    "tags": []
   },
   "outputs": [],
   "source": [
    "X_train=X_train[selected_feat]"
   ]
  },
  {
   "cell_type": "code",
   "execution_count": 47,
   "metadata": {
    "tags": []
   },
   "outputs": [
    {
     "data": {
      "text/html": [
       "<div>\n",
       "<style scoped>\n",
       "    .dataframe tbody tr th:only-of-type {\n",
       "        vertical-align: middle;\n",
       "    }\n",
       "\n",
       "    .dataframe tbody tr th {\n",
       "        vertical-align: top;\n",
       "    }\n",
       "\n",
       "    .dataframe thead th {\n",
       "        text-align: right;\n",
       "    }\n",
       "</style>\n",
       "<table border=\"1\" class=\"dataframe\">\n",
       "  <thead>\n",
       "    <tr style=\"text-align: right;\">\n",
       "      <th></th>\n",
       "      <th>Info_AA</th>\n",
       "      <th>Info_nPos</th>\n",
       "      <th>Info_nNeg</th>\n",
       "      <th>Info_cluster</th>\n",
       "      <th>feat_esm1b_69</th>\n",
       "      <th>feat_esm1b_114</th>\n",
       "      <th>feat_esm1b_150</th>\n",
       "      <th>feat_esm1b_187</th>\n",
       "      <th>feat_esm1b_325</th>\n",
       "      <th>feat_esm1b_381</th>\n",
       "      <th>...</th>\n",
       "      <th>feat_esm1b_937</th>\n",
       "      <th>feat_esm1b_953</th>\n",
       "      <th>feat_esm1b_975</th>\n",
       "      <th>feat_esm1b_1033</th>\n",
       "      <th>feat_esm1b_1060</th>\n",
       "      <th>feat_esm1b_1114</th>\n",
       "      <th>feat_esm1b_1148</th>\n",
       "      <th>feat_esm1b_1204</th>\n",
       "      <th>feat_esm1b_1231</th>\n",
       "      <th>feat_esm1b_1274</th>\n",
       "    </tr>\n",
       "  </thead>\n",
       "  <tbody>\n",
       "    <tr>\n",
       "      <th>0</th>\n",
       "      <td>3</td>\n",
       "      <td>1</td>\n",
       "      <td>0</td>\n",
       "      <td>18.0</td>\n",
       "      <td>-0.098378</td>\n",
       "      <td>0.356159</td>\n",
       "      <td>0.458982</td>\n",
       "      <td>-0.464556</td>\n",
       "      <td>-0.232140</td>\n",
       "      <td>0.117458</td>\n",
       "      <td>...</td>\n",
       "      <td>-0.318520</td>\n",
       "      <td>0.299497</td>\n",
       "      <td>0.223165</td>\n",
       "      <td>-0.098888</td>\n",
       "      <td>-0.257631</td>\n",
       "      <td>0.088015</td>\n",
       "      <td>-0.225911</td>\n",
       "      <td>0.264365</td>\n",
       "      <td>0.160040</td>\n",
       "      <td>-2.618115</td>\n",
       "    </tr>\n",
       "    <tr>\n",
       "      <th>1</th>\n",
       "      <td>3</td>\n",
       "      <td>1</td>\n",
       "      <td>0</td>\n",
       "      <td>18.0</td>\n",
       "      <td>-0.047431</td>\n",
       "      <td>0.440107</td>\n",
       "      <td>0.442107</td>\n",
       "      <td>-0.504993</td>\n",
       "      <td>-0.242614</td>\n",
       "      <td>-0.070397</td>\n",
       "      <td>...</td>\n",
       "      <td>-0.212179</td>\n",
       "      <td>0.213294</td>\n",
       "      <td>0.156693</td>\n",
       "      <td>0.025664</td>\n",
       "      <td>-0.322723</td>\n",
       "      <td>0.158736</td>\n",
       "      <td>-0.302577</td>\n",
       "      <td>0.307205</td>\n",
       "      <td>0.172347</td>\n",
       "      <td>-2.660741</td>\n",
       "    </tr>\n",
       "    <tr>\n",
       "      <th>2</th>\n",
       "      <td>2</td>\n",
       "      <td>1</td>\n",
       "      <td>0</td>\n",
       "      <td>18.0</td>\n",
       "      <td>0.283368</td>\n",
       "      <td>0.329216</td>\n",
       "      <td>0.411705</td>\n",
       "      <td>-0.719178</td>\n",
       "      <td>-0.130746</td>\n",
       "      <td>-0.031086</td>\n",
       "      <td>...</td>\n",
       "      <td>-0.003852</td>\n",
       "      <td>0.005946</td>\n",
       "      <td>-0.210386</td>\n",
       "      <td>0.085296</td>\n",
       "      <td>-0.025183</td>\n",
       "      <td>0.002567</td>\n",
       "      <td>-0.494364</td>\n",
       "      <td>0.143309</td>\n",
       "      <td>0.165183</td>\n",
       "      <td>-2.610207</td>\n",
       "    </tr>\n",
       "    <tr>\n",
       "      <th>3</th>\n",
       "      <td>11</td>\n",
       "      <td>1</td>\n",
       "      <td>0</td>\n",
       "      <td>18.0</td>\n",
       "      <td>-0.138394</td>\n",
       "      <td>0.239579</td>\n",
       "      <td>0.600622</td>\n",
       "      <td>-0.353874</td>\n",
       "      <td>0.058463</td>\n",
       "      <td>-0.107884</td>\n",
       "      <td>...</td>\n",
       "      <td>-0.085973</td>\n",
       "      <td>-0.076865</td>\n",
       "      <td>-0.153743</td>\n",
       "      <td>0.078874</td>\n",
       "      <td>-0.049322</td>\n",
       "      <td>0.398275</td>\n",
       "      <td>-0.533901</td>\n",
       "      <td>0.068555</td>\n",
       "      <td>0.152595</td>\n",
       "      <td>-2.598186</td>\n",
       "    </tr>\n",
       "    <tr>\n",
       "      <th>4</th>\n",
       "      <td>3</td>\n",
       "      <td>1</td>\n",
       "      <td>0</td>\n",
       "      <td>18.0</td>\n",
       "      <td>-0.102561</td>\n",
       "      <td>0.280267</td>\n",
       "      <td>0.254215</td>\n",
       "      <td>-0.502294</td>\n",
       "      <td>-0.122582</td>\n",
       "      <td>-0.243333</td>\n",
       "      <td>...</td>\n",
       "      <td>-0.049155</td>\n",
       "      <td>-0.210128</td>\n",
       "      <td>-0.000549</td>\n",
       "      <td>0.266505</td>\n",
       "      <td>-0.197403</td>\n",
       "      <td>0.309467</td>\n",
       "      <td>-0.419710</td>\n",
       "      <td>0.076184</td>\n",
       "      <td>0.032873</td>\n",
       "      <td>-2.414023</td>\n",
       "    </tr>\n",
       "    <tr>\n",
       "      <th>...</th>\n",
       "      <td>...</td>\n",
       "      <td>...</td>\n",
       "      <td>...</td>\n",
       "      <td>...</td>\n",
       "      <td>...</td>\n",
       "      <td>...</td>\n",
       "      <td>...</td>\n",
       "      <td>...</td>\n",
       "      <td>...</td>\n",
       "      <td>...</td>\n",
       "      <td>...</td>\n",
       "      <td>...</td>\n",
       "      <td>...</td>\n",
       "      <td>...</td>\n",
       "      <td>...</td>\n",
       "      <td>...</td>\n",
       "      <td>...</td>\n",
       "      <td>...</td>\n",
       "      <td>...</td>\n",
       "      <td>...</td>\n",
       "      <td>...</td>\n",
       "    </tr>\n",
       "    <tr>\n",
       "      <th>97589</th>\n",
       "      <td>15</td>\n",
       "      <td>1</td>\n",
       "      <td>0</td>\n",
       "      <td>128.0</td>\n",
       "      <td>-0.066293</td>\n",
       "      <td>0.248886</td>\n",
       "      <td>0.019309</td>\n",
       "      <td>0.081790</td>\n",
       "      <td>-0.213153</td>\n",
       "      <td>0.234739</td>\n",
       "      <td>...</td>\n",
       "      <td>-0.130180</td>\n",
       "      <td>0.098430</td>\n",
       "      <td>0.286284</td>\n",
       "      <td>0.636559</td>\n",
       "      <td>0.136655</td>\n",
       "      <td>-0.154925</td>\n",
       "      <td>0.129282</td>\n",
       "      <td>-0.123319</td>\n",
       "      <td>0.060012</td>\n",
       "      <td>-1.160657</td>\n",
       "    </tr>\n",
       "    <tr>\n",
       "      <th>97590</th>\n",
       "      <td>0</td>\n",
       "      <td>1</td>\n",
       "      <td>0</td>\n",
       "      <td>150.0</td>\n",
       "      <td>0.382664</td>\n",
       "      <td>0.552723</td>\n",
       "      <td>-0.117855</td>\n",
       "      <td>-0.252130</td>\n",
       "      <td>0.121916</td>\n",
       "      <td>-0.289597</td>\n",
       "      <td>...</td>\n",
       "      <td>0.134872</td>\n",
       "      <td>-0.656143</td>\n",
       "      <td>0.165723</td>\n",
       "      <td>0.196282</td>\n",
       "      <td>0.275227</td>\n",
       "      <td>-0.029652</td>\n",
       "      <td>0.330871</td>\n",
       "      <td>-0.161991</td>\n",
       "      <td>-0.071963</td>\n",
       "      <td>-1.545710</td>\n",
       "    </tr>\n",
       "    <tr>\n",
       "      <th>97591</th>\n",
       "      <td>15</td>\n",
       "      <td>1</td>\n",
       "      <td>0</td>\n",
       "      <td>128.0</td>\n",
       "      <td>-0.110771</td>\n",
       "      <td>0.385266</td>\n",
       "      <td>0.204824</td>\n",
       "      <td>0.183268</td>\n",
       "      <td>-0.182323</td>\n",
       "      <td>-0.107046</td>\n",
       "      <td>...</td>\n",
       "      <td>-0.219666</td>\n",
       "      <td>0.136701</td>\n",
       "      <td>-0.073957</td>\n",
       "      <td>0.482777</td>\n",
       "      <td>0.549612</td>\n",
       "      <td>-0.125141</td>\n",
       "      <td>0.250216</td>\n",
       "      <td>-0.226155</td>\n",
       "      <td>-0.009338</td>\n",
       "      <td>-1.202925</td>\n",
       "    </tr>\n",
       "    <tr>\n",
       "      <th>97592</th>\n",
       "      <td>16</td>\n",
       "      <td>1</td>\n",
       "      <td>0</td>\n",
       "      <td>241.0</td>\n",
       "      <td>-0.049502</td>\n",
       "      <td>0.185901</td>\n",
       "      <td>-0.067504</td>\n",
       "      <td>-0.739898</td>\n",
       "      <td>0.216254</td>\n",
       "      <td>-0.258191</td>\n",
       "      <td>...</td>\n",
       "      <td>-0.032673</td>\n",
       "      <td>-0.612649</td>\n",
       "      <td>0.264855</td>\n",
       "      <td>0.389282</td>\n",
       "      <td>0.849017</td>\n",
       "      <td>0.190902</td>\n",
       "      <td>0.341407</td>\n",
       "      <td>-0.245873</td>\n",
       "      <td>-0.064145</td>\n",
       "      <td>-1.056669</td>\n",
       "    </tr>\n",
       "    <tr>\n",
       "      <th>97593</th>\n",
       "      <td>12</td>\n",
       "      <td>1</td>\n",
       "      <td>0</td>\n",
       "      <td>114.0</td>\n",
       "      <td>-0.501521</td>\n",
       "      <td>0.160069</td>\n",
       "      <td>0.390504</td>\n",
       "      <td>-0.222158</td>\n",
       "      <td>0.008260</td>\n",
       "      <td>0.113447</td>\n",
       "      <td>...</td>\n",
       "      <td>-0.159278</td>\n",
       "      <td>-0.129915</td>\n",
       "      <td>0.162213</td>\n",
       "      <td>0.312910</td>\n",
       "      <td>-0.103249</td>\n",
       "      <td>0.130160</td>\n",
       "      <td>0.003693</td>\n",
       "      <td>-0.754069</td>\n",
       "      <td>0.274101</td>\n",
       "      <td>-1.612256</td>\n",
       "    </tr>\n",
       "  </tbody>\n",
       "</table>\n",
       "<p>97594 rows × 31 columns</p>\n",
       "</div>"
      ],
      "text/plain": [
       "       Info_AA  Info_nPos  Info_nNeg  Info_cluster  feat_esm1b_69  \\\n",
       "0            3          1          0          18.0      -0.098378   \n",
       "1            3          1          0          18.0      -0.047431   \n",
       "2            2          1          0          18.0       0.283368   \n",
       "3           11          1          0          18.0      -0.138394   \n",
       "4            3          1          0          18.0      -0.102561   \n",
       "...        ...        ...        ...           ...            ...   \n",
       "97589       15          1          0         128.0      -0.066293   \n",
       "97590        0          1          0         150.0       0.382664   \n",
       "97591       15          1          0         128.0      -0.110771   \n",
       "97592       16          1          0         241.0      -0.049502   \n",
       "97593       12          1          0         114.0      -0.501521   \n",
       "\n",
       "       feat_esm1b_114  feat_esm1b_150  feat_esm1b_187  feat_esm1b_325  \\\n",
       "0            0.356159        0.458982       -0.464556       -0.232140   \n",
       "1            0.440107        0.442107       -0.504993       -0.242614   \n",
       "2            0.329216        0.411705       -0.719178       -0.130746   \n",
       "3            0.239579        0.600622       -0.353874        0.058463   \n",
       "4            0.280267        0.254215       -0.502294       -0.122582   \n",
       "...               ...             ...             ...             ...   \n",
       "97589        0.248886        0.019309        0.081790       -0.213153   \n",
       "97590        0.552723       -0.117855       -0.252130        0.121916   \n",
       "97591        0.385266        0.204824        0.183268       -0.182323   \n",
       "97592        0.185901       -0.067504       -0.739898        0.216254   \n",
       "97593        0.160069        0.390504       -0.222158        0.008260   \n",
       "\n",
       "       feat_esm1b_381  ...  feat_esm1b_937  feat_esm1b_953  feat_esm1b_975  \\\n",
       "0            0.117458  ...       -0.318520        0.299497        0.223165   \n",
       "1           -0.070397  ...       -0.212179        0.213294        0.156693   \n",
       "2           -0.031086  ...       -0.003852        0.005946       -0.210386   \n",
       "3           -0.107884  ...       -0.085973       -0.076865       -0.153743   \n",
       "4           -0.243333  ...       -0.049155       -0.210128       -0.000549   \n",
       "...               ...  ...             ...             ...             ...   \n",
       "97589        0.234739  ...       -0.130180        0.098430        0.286284   \n",
       "97590       -0.289597  ...        0.134872       -0.656143        0.165723   \n",
       "97591       -0.107046  ...       -0.219666        0.136701       -0.073957   \n",
       "97592       -0.258191  ...       -0.032673       -0.612649        0.264855   \n",
       "97593        0.113447  ...       -0.159278       -0.129915        0.162213   \n",
       "\n",
       "       feat_esm1b_1033  feat_esm1b_1060  feat_esm1b_1114  feat_esm1b_1148  \\\n",
       "0            -0.098888        -0.257631         0.088015        -0.225911   \n",
       "1             0.025664        -0.322723         0.158736        -0.302577   \n",
       "2             0.085296        -0.025183         0.002567        -0.494364   \n",
       "3             0.078874        -0.049322         0.398275        -0.533901   \n",
       "4             0.266505        -0.197403         0.309467        -0.419710   \n",
       "...                ...              ...              ...              ...   \n",
       "97589         0.636559         0.136655        -0.154925         0.129282   \n",
       "97590         0.196282         0.275227        -0.029652         0.330871   \n",
       "97591         0.482777         0.549612        -0.125141         0.250216   \n",
       "97592         0.389282         0.849017         0.190902         0.341407   \n",
       "97593         0.312910        -0.103249         0.130160         0.003693   \n",
       "\n",
       "       feat_esm1b_1204  feat_esm1b_1231  feat_esm1b_1274  \n",
       "0             0.264365         0.160040        -2.618115  \n",
       "1             0.307205         0.172347        -2.660741  \n",
       "2             0.143309         0.165183        -2.610207  \n",
       "3             0.068555         0.152595        -2.598186  \n",
       "4             0.076184         0.032873        -2.414023  \n",
       "...                ...              ...              ...  \n",
       "97589        -0.123319         0.060012        -1.160657  \n",
       "97590        -0.161991        -0.071963        -1.545710  \n",
       "97591        -0.226155        -0.009338        -1.202925  \n",
       "97592        -0.245873        -0.064145        -1.056669  \n",
       "97593        -0.754069         0.274101        -1.612256  \n",
       "\n",
       "[97594 rows x 31 columns]"
      ]
     },
     "execution_count": 47,
     "metadata": {},
     "output_type": "execute_result"
    }
   ],
   "source": [
    "X_train"
   ]
  },
  {
   "cell_type": "code",
   "execution_count": 48,
   "metadata": {
    "tags": []
   },
   "outputs": [
    {
     "data": {
      "text/plain": [
       "0        1\n",
       "1        1\n",
       "2        1\n",
       "3        1\n",
       "4        1\n",
       "        ..\n",
       "97589    1\n",
       "97590    1\n",
       "97591    1\n",
       "97592    1\n",
       "97593    1\n",
       "Name: Class, Length: 97594, dtype: int64"
      ]
     },
     "execution_count": 48,
     "metadata": {},
     "output_type": "execute_result"
    }
   ],
   "source": [
    "y_train"
   ]
  },
  {
   "cell_type": "code",
   "execution_count": 49,
   "metadata": {
    "tags": []
   },
   "outputs": [
    {
     "data": {
      "text/html": [
       "<div>\n",
       "<style scoped>\n",
       "    .dataframe tbody tr th:only-of-type {\n",
       "        vertical-align: middle;\n",
       "    }\n",
       "\n",
       "    .dataframe tbody tr th {\n",
       "        vertical-align: top;\n",
       "    }\n",
       "\n",
       "    .dataframe thead th {\n",
       "        text-align: right;\n",
       "    }\n",
       "</style>\n",
       "<table border=\"1\" class=\"dataframe\">\n",
       "  <thead>\n",
       "    <tr style=\"text-align: right;\">\n",
       "      <th></th>\n",
       "      <th>Info_AA</th>\n",
       "      <th>Info_nPos</th>\n",
       "      <th>Info_nNeg</th>\n",
       "      <th>Info_cluster</th>\n",
       "      <th>feat_esm1b_69</th>\n",
       "      <th>feat_esm1b_114</th>\n",
       "      <th>feat_esm1b_150</th>\n",
       "      <th>feat_esm1b_187</th>\n",
       "      <th>feat_esm1b_325</th>\n",
       "      <th>feat_esm1b_381</th>\n",
       "      <th>...</th>\n",
       "      <th>feat_esm1b_953</th>\n",
       "      <th>feat_esm1b_975</th>\n",
       "      <th>feat_esm1b_1033</th>\n",
       "      <th>feat_esm1b_1060</th>\n",
       "      <th>feat_esm1b_1114</th>\n",
       "      <th>feat_esm1b_1148</th>\n",
       "      <th>feat_esm1b_1204</th>\n",
       "      <th>feat_esm1b_1231</th>\n",
       "      <th>feat_esm1b_1274</th>\n",
       "      <th>Class</th>\n",
       "    </tr>\n",
       "  </thead>\n",
       "  <tbody>\n",
       "    <tr>\n",
       "      <th>0</th>\n",
       "      <td>3</td>\n",
       "      <td>1</td>\n",
       "      <td>0</td>\n",
       "      <td>18.0</td>\n",
       "      <td>-0.098378</td>\n",
       "      <td>0.356159</td>\n",
       "      <td>0.458982</td>\n",
       "      <td>-0.464556</td>\n",
       "      <td>-0.232140</td>\n",
       "      <td>0.117458</td>\n",
       "      <td>...</td>\n",
       "      <td>0.299497</td>\n",
       "      <td>0.223165</td>\n",
       "      <td>-0.098888</td>\n",
       "      <td>-0.257631</td>\n",
       "      <td>0.088015</td>\n",
       "      <td>-0.225911</td>\n",
       "      <td>0.264365</td>\n",
       "      <td>0.160040</td>\n",
       "      <td>-2.618115</td>\n",
       "      <td>1</td>\n",
       "    </tr>\n",
       "    <tr>\n",
       "      <th>1</th>\n",
       "      <td>3</td>\n",
       "      <td>1</td>\n",
       "      <td>0</td>\n",
       "      <td>18.0</td>\n",
       "      <td>-0.047431</td>\n",
       "      <td>0.440107</td>\n",
       "      <td>0.442107</td>\n",
       "      <td>-0.504993</td>\n",
       "      <td>-0.242614</td>\n",
       "      <td>-0.070397</td>\n",
       "      <td>...</td>\n",
       "      <td>0.213294</td>\n",
       "      <td>0.156693</td>\n",
       "      <td>0.025664</td>\n",
       "      <td>-0.322723</td>\n",
       "      <td>0.158736</td>\n",
       "      <td>-0.302577</td>\n",
       "      <td>0.307205</td>\n",
       "      <td>0.172347</td>\n",
       "      <td>-2.660741</td>\n",
       "      <td>1</td>\n",
       "    </tr>\n",
       "    <tr>\n",
       "      <th>2</th>\n",
       "      <td>2</td>\n",
       "      <td>1</td>\n",
       "      <td>0</td>\n",
       "      <td>18.0</td>\n",
       "      <td>0.283368</td>\n",
       "      <td>0.329216</td>\n",
       "      <td>0.411705</td>\n",
       "      <td>-0.719178</td>\n",
       "      <td>-0.130746</td>\n",
       "      <td>-0.031086</td>\n",
       "      <td>...</td>\n",
       "      <td>0.005946</td>\n",
       "      <td>-0.210386</td>\n",
       "      <td>0.085296</td>\n",
       "      <td>-0.025183</td>\n",
       "      <td>0.002567</td>\n",
       "      <td>-0.494364</td>\n",
       "      <td>0.143309</td>\n",
       "      <td>0.165183</td>\n",
       "      <td>-2.610207</td>\n",
       "      <td>1</td>\n",
       "    </tr>\n",
       "    <tr>\n",
       "      <th>3</th>\n",
       "      <td>11</td>\n",
       "      <td>1</td>\n",
       "      <td>0</td>\n",
       "      <td>18.0</td>\n",
       "      <td>-0.138394</td>\n",
       "      <td>0.239579</td>\n",
       "      <td>0.600622</td>\n",
       "      <td>-0.353874</td>\n",
       "      <td>0.058463</td>\n",
       "      <td>-0.107884</td>\n",
       "      <td>...</td>\n",
       "      <td>-0.076865</td>\n",
       "      <td>-0.153743</td>\n",
       "      <td>0.078874</td>\n",
       "      <td>-0.049322</td>\n",
       "      <td>0.398275</td>\n",
       "      <td>-0.533901</td>\n",
       "      <td>0.068555</td>\n",
       "      <td>0.152595</td>\n",
       "      <td>-2.598186</td>\n",
       "      <td>1</td>\n",
       "    </tr>\n",
       "    <tr>\n",
       "      <th>4</th>\n",
       "      <td>3</td>\n",
       "      <td>1</td>\n",
       "      <td>0</td>\n",
       "      <td>18.0</td>\n",
       "      <td>-0.102561</td>\n",
       "      <td>0.280267</td>\n",
       "      <td>0.254215</td>\n",
       "      <td>-0.502294</td>\n",
       "      <td>-0.122582</td>\n",
       "      <td>-0.243333</td>\n",
       "      <td>...</td>\n",
       "      <td>-0.210128</td>\n",
       "      <td>-0.000549</td>\n",
       "      <td>0.266505</td>\n",
       "      <td>-0.197403</td>\n",
       "      <td>0.309467</td>\n",
       "      <td>-0.419710</td>\n",
       "      <td>0.076184</td>\n",
       "      <td>0.032873</td>\n",
       "      <td>-2.414023</td>\n",
       "      <td>1</td>\n",
       "    </tr>\n",
       "  </tbody>\n",
       "</table>\n",
       "<p>5 rows × 32 columns</p>\n",
       "</div>"
      ],
      "text/plain": [
       "   Info_AA  Info_nPos  Info_nNeg  Info_cluster  feat_esm1b_69  feat_esm1b_114  \\\n",
       "0        3          1          0          18.0      -0.098378        0.356159   \n",
       "1        3          1          0          18.0      -0.047431        0.440107   \n",
       "2        2          1          0          18.0       0.283368        0.329216   \n",
       "3       11          1          0          18.0      -0.138394        0.239579   \n",
       "4        3          1          0          18.0      -0.102561        0.280267   \n",
       "\n",
       "   feat_esm1b_150  feat_esm1b_187  feat_esm1b_325  feat_esm1b_381  ...  \\\n",
       "0        0.458982       -0.464556       -0.232140        0.117458  ...   \n",
       "1        0.442107       -0.504993       -0.242614       -0.070397  ...   \n",
       "2        0.411705       -0.719178       -0.130746       -0.031086  ...   \n",
       "3        0.600622       -0.353874        0.058463       -0.107884  ...   \n",
       "4        0.254215       -0.502294       -0.122582       -0.243333  ...   \n",
       "\n",
       "   feat_esm1b_953  feat_esm1b_975  feat_esm1b_1033  feat_esm1b_1060  \\\n",
       "0        0.299497        0.223165        -0.098888        -0.257631   \n",
       "1        0.213294        0.156693         0.025664        -0.322723   \n",
       "2        0.005946       -0.210386         0.085296        -0.025183   \n",
       "3       -0.076865       -0.153743         0.078874        -0.049322   \n",
       "4       -0.210128       -0.000549         0.266505        -0.197403   \n",
       "\n",
       "   feat_esm1b_1114  feat_esm1b_1148  feat_esm1b_1204  feat_esm1b_1231  \\\n",
       "0         0.088015        -0.225911         0.264365         0.160040   \n",
       "1         0.158736        -0.302577         0.307205         0.172347   \n",
       "2         0.002567        -0.494364         0.143309         0.165183   \n",
       "3         0.398275        -0.533901         0.068555         0.152595   \n",
       "4         0.309467        -0.419710         0.076184         0.032873   \n",
       "\n",
       "   feat_esm1b_1274  Class  \n",
       "0        -2.618115      1  \n",
       "1        -2.660741      1  \n",
       "2        -2.610207      1  \n",
       "3        -2.598186      1  \n",
       "4        -2.414023      1  \n",
       "\n",
       "[5 rows x 32 columns]"
      ]
     },
     "execution_count": 49,
     "metadata": {},
     "output_type": "execute_result"
    }
   ],
   "source": [
    "df_new = X_train\n",
    "df_new['Class']=y_train\n",
    "df_new.head()"
   ]
  },
  {
   "cell_type": "code",
   "execution_count": 60,
   "metadata": {
    "tags": []
   },
   "outputs": [
    {
     "data": {
      "text/plain": [
       "1    48797\n",
       "0    48797\n",
       "Name: Class, dtype: int64"
      ]
     },
     "execution_count": 60,
     "metadata": {},
     "output_type": "execute_result"
    }
   ],
   "source": [
    "df_new.Class.value_counts()"
   ]
  },
  {
   "cell_type": "code",
   "execution_count": 50,
   "metadata": {
    "tags": []
   },
   "outputs": [],
   "source": [
    "df_new.to_csv('df_transformed.csv', index=False)"
   ]
  },
  {
   "cell_type": "code",
   "execution_count": 51,
   "metadata": {
    "tags": []
   },
   "outputs": [
    {
     "data": {
      "text/html": [
       "<div>\n",
       "<style scoped>\n",
       "    .dataframe tbody tr th:only-of-type {\n",
       "        vertical-align: middle;\n",
       "    }\n",
       "\n",
       "    .dataframe tbody tr th {\n",
       "        vertical-align: top;\n",
       "    }\n",
       "\n",
       "    .dataframe thead th {\n",
       "        text-align: right;\n",
       "    }\n",
       "</style>\n",
       "<table border=\"1\" class=\"dataframe\">\n",
       "  <thead>\n",
       "    <tr style=\"text-align: right;\">\n",
       "      <th></th>\n",
       "      <th>Info_AA</th>\n",
       "      <th>Info_nPos</th>\n",
       "      <th>Info_nNeg</th>\n",
       "      <th>Info_cluster</th>\n",
       "      <th>feat_esm1b_69</th>\n",
       "      <th>feat_esm1b_114</th>\n",
       "      <th>feat_esm1b_150</th>\n",
       "      <th>feat_esm1b_187</th>\n",
       "      <th>feat_esm1b_325</th>\n",
       "      <th>feat_esm1b_381</th>\n",
       "      <th>...</th>\n",
       "      <th>feat_esm1b_953</th>\n",
       "      <th>feat_esm1b_975</th>\n",
       "      <th>feat_esm1b_1033</th>\n",
       "      <th>feat_esm1b_1060</th>\n",
       "      <th>feat_esm1b_1114</th>\n",
       "      <th>feat_esm1b_1148</th>\n",
       "      <th>feat_esm1b_1204</th>\n",
       "      <th>feat_esm1b_1231</th>\n",
       "      <th>feat_esm1b_1274</th>\n",
       "      <th>Class</th>\n",
       "    </tr>\n",
       "  </thead>\n",
       "  <tbody>\n",
       "    <tr>\n",
       "      <th>count</th>\n",
       "      <td>97594.000000</td>\n",
       "      <td>97594.000000</td>\n",
       "      <td>97594.000000</td>\n",
       "      <td>97594.000000</td>\n",
       "      <td>97594.000000</td>\n",
       "      <td>97594.000000</td>\n",
       "      <td>97594.000000</td>\n",
       "      <td>97594.000000</td>\n",
       "      <td>97594.000000</td>\n",
       "      <td>97594.000000</td>\n",
       "      <td>...</td>\n",
       "      <td>97594.000000</td>\n",
       "      <td>97594.000000</td>\n",
       "      <td>97594.000000</td>\n",
       "      <td>97594.000000</td>\n",
       "      <td>97594.000000</td>\n",
       "      <td>97594.000000</td>\n",
       "      <td>97594.000000</td>\n",
       "      <td>97594.000000</td>\n",
       "      <td>97594.000000</td>\n",
       "      <td>97594.000000</td>\n",
       "    </tr>\n",
       "    <tr>\n",
       "      <th>mean</th>\n",
       "      <td>8.003535</td>\n",
       "      <td>0.479435</td>\n",
       "      <td>0.506947</td>\n",
       "      <td>149.381122</td>\n",
       "      <td>-0.141084</td>\n",
       "      <td>0.014435</td>\n",
       "      <td>0.094125</td>\n",
       "      <td>-0.144403</td>\n",
       "      <td>0.002599</td>\n",
       "      <td>-0.024524</td>\n",
       "      <td>...</td>\n",
       "      <td>-0.131366</td>\n",
       "      <td>0.135519</td>\n",
       "      <td>0.078293</td>\n",
       "      <td>0.017435</td>\n",
       "      <td>-0.024026</td>\n",
       "      <td>-0.029258</td>\n",
       "      <td>-0.198512</td>\n",
       "      <td>-0.011354</td>\n",
       "      <td>-1.268404</td>\n",
       "      <td>0.500000</td>\n",
       "    </tr>\n",
       "    <tr>\n",
       "      <th>std</th>\n",
       "      <td>5.716596</td>\n",
       "      <td>0.499579</td>\n",
       "      <td>0.499954</td>\n",
       "      <td>76.458913</td>\n",
       "      <td>0.253268</td>\n",
       "      <td>0.221719</td>\n",
       "      <td>0.228916</td>\n",
       "      <td>0.313586</td>\n",
       "      <td>0.215594</td>\n",
       "      <td>0.205173</td>\n",
       "      <td>...</td>\n",
       "      <td>0.243043</td>\n",
       "      <td>0.225093</td>\n",
       "      <td>0.254781</td>\n",
       "      <td>0.275361</td>\n",
       "      <td>0.193103</td>\n",
       "      <td>0.269372</td>\n",
       "      <td>0.210563</td>\n",
       "      <td>0.192613</td>\n",
       "      <td>0.676412</td>\n",
       "      <td>0.500003</td>\n",
       "    </tr>\n",
       "    <tr>\n",
       "      <th>min</th>\n",
       "      <td>0.000000</td>\n",
       "      <td>0.000000</td>\n",
       "      <td>0.000000</td>\n",
       "      <td>7.000000</td>\n",
       "      <td>-1.449198</td>\n",
       "      <td>-1.196306</td>\n",
       "      <td>-0.946959</td>\n",
       "      <td>-1.145066</td>\n",
       "      <td>-1.216194</td>\n",
       "      <td>-1.081182</td>\n",
       "      <td>...</td>\n",
       "      <td>-1.202007</td>\n",
       "      <td>-0.932917</td>\n",
       "      <td>-1.258368</td>\n",
       "      <td>-1.004484</td>\n",
       "      <td>-1.032804</td>\n",
       "      <td>-1.051907</td>\n",
       "      <td>-1.316912</td>\n",
       "      <td>-0.925570</td>\n",
       "      <td>-3.004328</td>\n",
       "      <td>0.000000</td>\n",
       "    </tr>\n",
       "    <tr>\n",
       "      <th>25%</th>\n",
       "      <td>3.000000</td>\n",
       "      <td>0.000000</td>\n",
       "      <td>0.000000</td>\n",
       "      <td>102.000000</td>\n",
       "      <td>-0.291686</td>\n",
       "      <td>-0.136145</td>\n",
       "      <td>-0.062691</td>\n",
       "      <td>-0.372266</td>\n",
       "      <td>-0.143748</td>\n",
       "      <td>-0.164108</td>\n",
       "      <td>...</td>\n",
       "      <td>-0.312568</td>\n",
       "      <td>-0.002209</td>\n",
       "      <td>-0.094795</td>\n",
       "      <td>-0.172569</td>\n",
       "      <td>-0.153380</td>\n",
       "      <td>-0.220411</td>\n",
       "      <td>-0.324020</td>\n",
       "      <td>-0.148995</td>\n",
       "      <td>-1.748940</td>\n",
       "      <td>0.000000</td>\n",
       "    </tr>\n",
       "    <tr>\n",
       "      <th>50%</th>\n",
       "      <td>8.000000</td>\n",
       "      <td>0.000000</td>\n",
       "      <td>1.000000</td>\n",
       "      <td>153.000000</td>\n",
       "      <td>-0.132616</td>\n",
       "      <td>0.000440</td>\n",
       "      <td>0.087326</td>\n",
       "      <td>-0.158998</td>\n",
       "      <td>0.013274</td>\n",
       "      <td>-0.030665</td>\n",
       "      <td>...</td>\n",
       "      <td>-0.115965</td>\n",
       "      <td>0.148990</td>\n",
       "      <td>0.093282</td>\n",
       "      <td>-0.015159</td>\n",
       "      <td>-0.030198</td>\n",
       "      <td>-0.063425</td>\n",
       "      <td>-0.196113</td>\n",
       "      <td>-0.013365</td>\n",
       "      <td>-1.305513</td>\n",
       "      <td>0.500000</td>\n",
       "    </tr>\n",
       "    <tr>\n",
       "      <th>75%</th>\n",
       "      <td>13.000000</td>\n",
       "      <td>1.000000</td>\n",
       "      <td>1.000000</td>\n",
       "      <td>209.000000</td>\n",
       "      <td>0.025693</td>\n",
       "      <td>0.147158</td>\n",
       "      <td>0.251020</td>\n",
       "      <td>0.083277</td>\n",
       "      <td>0.150434</td>\n",
       "      <td>0.117879</td>\n",
       "      <td>...</td>\n",
       "      <td>0.047226</td>\n",
       "      <td>0.286515</td>\n",
       "      <td>0.255660</td>\n",
       "      <td>0.158605</td>\n",
       "      <td>0.103290</td>\n",
       "      <td>0.123940</td>\n",
       "      <td>-0.056303</td>\n",
       "      <td>0.131778</td>\n",
       "      <td>-0.912272</td>\n",
       "      <td>1.000000</td>\n",
       "    </tr>\n",
       "    <tr>\n",
       "      <th>max</th>\n",
       "      <td>19.000000</td>\n",
       "      <td>1.000000</td>\n",
       "      <td>1.000000</td>\n",
       "      <td>283.000000</td>\n",
       "      <td>1.328217</td>\n",
       "      <td>1.113812</td>\n",
       "      <td>1.136556</td>\n",
       "      <td>1.066271</td>\n",
       "      <td>0.868205</td>\n",
       "      <td>0.980779</td>\n",
       "      <td>...</td>\n",
       "      <td>0.868489</td>\n",
       "      <td>1.395100</td>\n",
       "      <td>1.115515</td>\n",
       "      <td>1.502930</td>\n",
       "      <td>1.028699</td>\n",
       "      <td>1.491085</td>\n",
       "      <td>0.849403</td>\n",
       "      <td>1.038994</td>\n",
       "      <td>2.234913</td>\n",
       "      <td>1.000000</td>\n",
       "    </tr>\n",
       "  </tbody>\n",
       "</table>\n",
       "<p>8 rows × 32 columns</p>\n",
       "</div>"
      ],
      "text/plain": [
       "            Info_AA     Info_nPos     Info_nNeg  Info_cluster  feat_esm1b_69  \\\n",
       "count  97594.000000  97594.000000  97594.000000  97594.000000   97594.000000   \n",
       "mean       8.003535      0.479435      0.506947    149.381122      -0.141084   \n",
       "std        5.716596      0.499579      0.499954     76.458913       0.253268   \n",
       "min        0.000000      0.000000      0.000000      7.000000      -1.449198   \n",
       "25%        3.000000      0.000000      0.000000    102.000000      -0.291686   \n",
       "50%        8.000000      0.000000      1.000000    153.000000      -0.132616   \n",
       "75%       13.000000      1.000000      1.000000    209.000000       0.025693   \n",
       "max       19.000000      1.000000      1.000000    283.000000       1.328217   \n",
       "\n",
       "       feat_esm1b_114  feat_esm1b_150  feat_esm1b_187  feat_esm1b_325  \\\n",
       "count    97594.000000    97594.000000    97594.000000    97594.000000   \n",
       "mean         0.014435        0.094125       -0.144403        0.002599   \n",
       "std          0.221719        0.228916        0.313586        0.215594   \n",
       "min         -1.196306       -0.946959       -1.145066       -1.216194   \n",
       "25%         -0.136145       -0.062691       -0.372266       -0.143748   \n",
       "50%          0.000440        0.087326       -0.158998        0.013274   \n",
       "75%          0.147158        0.251020        0.083277        0.150434   \n",
       "max          1.113812        1.136556        1.066271        0.868205   \n",
       "\n",
       "       feat_esm1b_381  ...  feat_esm1b_953  feat_esm1b_975  feat_esm1b_1033  \\\n",
       "count    97594.000000  ...    97594.000000    97594.000000     97594.000000   \n",
       "mean        -0.024524  ...       -0.131366        0.135519         0.078293   \n",
       "std          0.205173  ...        0.243043        0.225093         0.254781   \n",
       "min         -1.081182  ...       -1.202007       -0.932917        -1.258368   \n",
       "25%         -0.164108  ...       -0.312568       -0.002209        -0.094795   \n",
       "50%         -0.030665  ...       -0.115965        0.148990         0.093282   \n",
       "75%          0.117879  ...        0.047226        0.286515         0.255660   \n",
       "max          0.980779  ...        0.868489        1.395100         1.115515   \n",
       "\n",
       "       feat_esm1b_1060  feat_esm1b_1114  feat_esm1b_1148  feat_esm1b_1204  \\\n",
       "count     97594.000000     97594.000000     97594.000000     97594.000000   \n",
       "mean          0.017435        -0.024026        -0.029258        -0.198512   \n",
       "std           0.275361         0.193103         0.269372         0.210563   \n",
       "min          -1.004484        -1.032804        -1.051907        -1.316912   \n",
       "25%          -0.172569        -0.153380        -0.220411        -0.324020   \n",
       "50%          -0.015159        -0.030198        -0.063425        -0.196113   \n",
       "75%           0.158605         0.103290         0.123940        -0.056303   \n",
       "max           1.502930         1.028699         1.491085         0.849403   \n",
       "\n",
       "       feat_esm1b_1231  feat_esm1b_1274         Class  \n",
       "count     97594.000000     97594.000000  97594.000000  \n",
       "mean         -0.011354        -1.268404      0.500000  \n",
       "std           0.192613         0.676412      0.500003  \n",
       "min          -0.925570        -3.004328      0.000000  \n",
       "25%          -0.148995        -1.748940      0.000000  \n",
       "50%          -0.013365        -1.305513      0.500000  \n",
       "75%           0.131778        -0.912272      1.000000  \n",
       "max           1.038994         2.234913      1.000000  \n",
       "\n",
       "[8 rows x 32 columns]"
      ]
     },
     "execution_count": 51,
     "metadata": {},
     "output_type": "execute_result"
    }
   ],
   "source": [
    "df_new.describe()"
   ]
  },
  {
   "cell_type": "markdown",
   "metadata": {},
   "source": [
    "### Split the dataset to train and test"
   ]
  },
  {
   "cell_type": "code",
   "execution_count": 61,
   "metadata": {},
   "outputs": [],
   "source": [
    "from sklearn.model_selection import train_test_split\n",
    "X_train, X_test, y_train, y_test = train_test_split(df_new.drop('Class', axis=1),df_new.Class ,test_size=0.2, random_state=42)"
   ]
  },
  {
   "cell_type": "markdown",
   "metadata": {},
   "source": [
    "### Model Training"
   ]
  },
  {
   "cell_type": "code",
   "execution_count": 62,
   "metadata": {
    "tags": []
   },
   "outputs": [],
   "source": [
    "# from xgboost import XGBClassifier\n",
    "from sklearn.ensemble import RandomForestClassifier\n",
    "from sklearn.neighbors import KNeighborsClassifier\n",
    "from sklearn.svm import SVC\n",
    "from sklearn.linear_model import LogisticRegression"
   ]
  },
  {
   "cell_type": "code",
   "execution_count": 63,
   "metadata": {
    "tags": []
   },
   "outputs": [],
   "source": [
    "def model_with_score(models, X_train, X_test, y_train, y_test):\n",
    "    \"\"\"\n",
    "    Fits and evaluates given machine learning models.\n",
    "    models : a dict of different Scikit-Learn machine learning models\n",
    "    X_train : training data\n",
    "    X_test : testing data\n",
    "    y_train : labels assosciated with training data\n",
    "    y_test : labels assosciated with test data\n",
    "    \n",
    "    \"\"\"\n",
    "    # Random seed for reproducible results\n",
    "    np.random.seed(42)\n",
    "    # Make a list to keep model scores\n",
    "    model_scores = {}\n",
    "    # Loop through models\n",
    "    for name, model in models.items():\n",
    "        # Fit the model to the data\n",
    "        model.fit(X_train, y_train)\n",
    "        # Evaluate the model and append its score to model_scores\n",
    "        model_scores[name] = model.score(X_test, y_test)\n",
    "    return model_scores"
   ]
  },
  {
   "cell_type": "code",
   "execution_count": 64,
   "metadata": {},
   "outputs": [
    {
     "name": "stderr",
     "output_type": "stream",
     "text": [
      "C:\\Users\\44787\\anaconda3\\Lib\\site-packages\\sklearn\\linear_model\\_logistic.py:469: ConvergenceWarning: lbfgs failed to converge (status=1):\n",
      "STOP: TOTAL NO. of ITERATIONS REACHED LIMIT.\n",
      "\n",
      "Increase the number of iterations (max_iter) or scale the data as shown in:\n",
      "    https://scikit-learn.org/stable/modules/preprocessing.html\n",
      "Please also refer to the documentation for alternative solver options:\n",
      "    https://scikit-learn.org/stable/modules/linear_model.html#logistic-regression\n",
      "  n_iter_i = _check_optimize_result(\n"
     ]
    },
    {
     "data": {
      "text/plain": [
       "{'RandomForest': 0.9993852144064758,\n",
       " 'KNN': 0.9971310005635534,\n",
       " 'SVC': 0.9911880731594856,\n",
       " 'LogisticRegression': 0.9959526615092986}"
      ]
     },
     "execution_count": 64,
     "metadata": {},
     "output_type": "execute_result"
    }
   ],
   "source": [
    "models = {\"RandomForest\": RandomForestClassifier(),\n",
    "          \"KNN\": KNeighborsClassifier(),\n",
    "          \"SVC\": SVC(),\n",
    "          \"LogisticRegression\": LogisticRegression()}\n",
    "\n",
    "model_scores = model_with_score(models=models,\n",
    "                             X_train=X_train,\n",
    "                             X_test=X_test,\n",
    "                             y_train=y_train,\n",
    "                             y_test=y_test)\n",
    "model_scores "
   ]
  },
  {
   "cell_type": "code",
   "execution_count": 65,
   "metadata": {},
   "outputs": [
    {
     "data": {
      "text/html": [
       "<style>#sk-container-id-3 {\n",
       "  /* Definition of color scheme common for light and dark mode */\n",
       "  --sklearn-color-text: black;\n",
       "  --sklearn-color-line: gray;\n",
       "  /* Definition of color scheme for unfitted estimators */\n",
       "  --sklearn-color-unfitted-level-0: #fff5e6;\n",
       "  --sklearn-color-unfitted-level-1: #f6e4d2;\n",
       "  --sklearn-color-unfitted-level-2: #ffe0b3;\n",
       "  --sklearn-color-unfitted-level-3: chocolate;\n",
       "  /* Definition of color scheme for fitted estimators */\n",
       "  --sklearn-color-fitted-level-0: #f0f8ff;\n",
       "  --sklearn-color-fitted-level-1: #d4ebff;\n",
       "  --sklearn-color-fitted-level-2: #b3dbfd;\n",
       "  --sklearn-color-fitted-level-3: cornflowerblue;\n",
       "\n",
       "  /* Specific color for light theme */\n",
       "  --sklearn-color-text-on-default-background: var(--sg-text-color, var(--theme-code-foreground, var(--jp-content-font-color1, black)));\n",
       "  --sklearn-color-background: var(--sg-background-color, var(--theme-background, var(--jp-layout-color0, white)));\n",
       "  --sklearn-color-border-box: var(--sg-text-color, var(--theme-code-foreground, var(--jp-content-font-color1, black)));\n",
       "  --sklearn-color-icon: #696969;\n",
       "\n",
       "  @media (prefers-color-scheme: dark) {\n",
       "    /* Redefinition of color scheme for dark theme */\n",
       "    --sklearn-color-text-on-default-background: var(--sg-text-color, var(--theme-code-foreground, var(--jp-content-font-color1, white)));\n",
       "    --sklearn-color-background: var(--sg-background-color, var(--theme-background, var(--jp-layout-color0, #111)));\n",
       "    --sklearn-color-border-box: var(--sg-text-color, var(--theme-code-foreground, var(--jp-content-font-color1, white)));\n",
       "    --sklearn-color-icon: #878787;\n",
       "  }\n",
       "}\n",
       "\n",
       "#sk-container-id-3 {\n",
       "  color: var(--sklearn-color-text);\n",
       "}\n",
       "\n",
       "#sk-container-id-3 pre {\n",
       "  padding: 0;\n",
       "}\n",
       "\n",
       "#sk-container-id-3 input.sk-hidden--visually {\n",
       "  border: 0;\n",
       "  clip: rect(1px 1px 1px 1px);\n",
       "  clip: rect(1px, 1px, 1px, 1px);\n",
       "  height: 1px;\n",
       "  margin: -1px;\n",
       "  overflow: hidden;\n",
       "  padding: 0;\n",
       "  position: absolute;\n",
       "  width: 1px;\n",
       "}\n",
       "\n",
       "#sk-container-id-3 div.sk-dashed-wrapped {\n",
       "  border: 1px dashed var(--sklearn-color-line);\n",
       "  margin: 0 0.4em 0.5em 0.4em;\n",
       "  box-sizing: border-box;\n",
       "  padding-bottom: 0.4em;\n",
       "  background-color: var(--sklearn-color-background);\n",
       "}\n",
       "\n",
       "#sk-container-id-3 div.sk-container {\n",
       "  /* jupyter's `normalize.less` sets `[hidden] { display: none; }`\n",
       "     but bootstrap.min.css set `[hidden] { display: none !important; }`\n",
       "     so we also need the `!important` here to be able to override the\n",
       "     default hidden behavior on the sphinx rendered scikit-learn.org.\n",
       "     See: https://github.com/scikit-learn/scikit-learn/issues/21755 */\n",
       "  display: inline-block !important;\n",
       "  position: relative;\n",
       "}\n",
       "\n",
       "#sk-container-id-3 div.sk-text-repr-fallback {\n",
       "  display: none;\n",
       "}\n",
       "\n",
       "div.sk-parallel-item,\n",
       "div.sk-serial,\n",
       "div.sk-item {\n",
       "  /* draw centered vertical line to link estimators */\n",
       "  background-image: linear-gradient(var(--sklearn-color-text-on-default-background), var(--sklearn-color-text-on-default-background));\n",
       "  background-size: 2px 100%;\n",
       "  background-repeat: no-repeat;\n",
       "  background-position: center center;\n",
       "}\n",
       "\n",
       "/* Parallel-specific style estimator block */\n",
       "\n",
       "#sk-container-id-3 div.sk-parallel-item::after {\n",
       "  content: \"\";\n",
       "  width: 100%;\n",
       "  border-bottom: 2px solid var(--sklearn-color-text-on-default-background);\n",
       "  flex-grow: 1;\n",
       "}\n",
       "\n",
       "#sk-container-id-3 div.sk-parallel {\n",
       "  display: flex;\n",
       "  align-items: stretch;\n",
       "  justify-content: center;\n",
       "  background-color: var(--sklearn-color-background);\n",
       "  position: relative;\n",
       "}\n",
       "\n",
       "#sk-container-id-3 div.sk-parallel-item {\n",
       "  display: flex;\n",
       "  flex-direction: column;\n",
       "}\n",
       "\n",
       "#sk-container-id-3 div.sk-parallel-item:first-child::after {\n",
       "  align-self: flex-end;\n",
       "  width: 50%;\n",
       "}\n",
       "\n",
       "#sk-container-id-3 div.sk-parallel-item:last-child::after {\n",
       "  align-self: flex-start;\n",
       "  width: 50%;\n",
       "}\n",
       "\n",
       "#sk-container-id-3 div.sk-parallel-item:only-child::after {\n",
       "  width: 0;\n",
       "}\n",
       "\n",
       "/* Serial-specific style estimator block */\n",
       "\n",
       "#sk-container-id-3 div.sk-serial {\n",
       "  display: flex;\n",
       "  flex-direction: column;\n",
       "  align-items: center;\n",
       "  background-color: var(--sklearn-color-background);\n",
       "  padding-right: 1em;\n",
       "  padding-left: 1em;\n",
       "}\n",
       "\n",
       "\n",
       "/* Toggleable style: style used for estimator/Pipeline/ColumnTransformer box that is\n",
       "clickable and can be expanded/collapsed.\n",
       "- Pipeline and ColumnTransformer use this feature and define the default style\n",
       "- Estimators will overwrite some part of the style using the `sk-estimator` class\n",
       "*/\n",
       "\n",
       "/* Pipeline and ColumnTransformer style (default) */\n",
       "\n",
       "#sk-container-id-3 div.sk-toggleable {\n",
       "  /* Default theme specific background. It is overwritten whether we have a\n",
       "  specific estimator or a Pipeline/ColumnTransformer */\n",
       "  background-color: var(--sklearn-color-background);\n",
       "}\n",
       "\n",
       "/* Toggleable label */\n",
       "#sk-container-id-3 label.sk-toggleable__label {\n",
       "  cursor: pointer;\n",
       "  display: block;\n",
       "  width: 100%;\n",
       "  margin-bottom: 0;\n",
       "  padding: 0.5em;\n",
       "  box-sizing: border-box;\n",
       "  text-align: center;\n",
       "}\n",
       "\n",
       "#sk-container-id-3 label.sk-toggleable__label-arrow:before {\n",
       "  /* Arrow on the left of the label */\n",
       "  content: \"▸\";\n",
       "  float: left;\n",
       "  margin-right: 0.25em;\n",
       "  color: var(--sklearn-color-icon);\n",
       "}\n",
       "\n",
       "#sk-container-id-3 label.sk-toggleable__label-arrow:hover:before {\n",
       "  color: var(--sklearn-color-text);\n",
       "}\n",
       "\n",
       "/* Toggleable content - dropdown */\n",
       "\n",
       "#sk-container-id-3 div.sk-toggleable__content {\n",
       "  max-height: 0;\n",
       "  max-width: 0;\n",
       "  overflow: hidden;\n",
       "  text-align: left;\n",
       "  /* unfitted */\n",
       "  background-color: var(--sklearn-color-unfitted-level-0);\n",
       "}\n",
       "\n",
       "#sk-container-id-3 div.sk-toggleable__content.fitted {\n",
       "  /* fitted */\n",
       "  background-color: var(--sklearn-color-fitted-level-0);\n",
       "}\n",
       "\n",
       "#sk-container-id-3 div.sk-toggleable__content pre {\n",
       "  margin: 0.2em;\n",
       "  border-radius: 0.25em;\n",
       "  color: var(--sklearn-color-text);\n",
       "  /* unfitted */\n",
       "  background-color: var(--sklearn-color-unfitted-level-0);\n",
       "}\n",
       "\n",
       "#sk-container-id-3 div.sk-toggleable__content.fitted pre {\n",
       "  /* unfitted */\n",
       "  background-color: var(--sklearn-color-fitted-level-0);\n",
       "}\n",
       "\n",
       "#sk-container-id-3 input.sk-toggleable__control:checked~div.sk-toggleable__content {\n",
       "  /* Expand drop-down */\n",
       "  max-height: 200px;\n",
       "  max-width: 100%;\n",
       "  overflow: auto;\n",
       "}\n",
       "\n",
       "#sk-container-id-3 input.sk-toggleable__control:checked~label.sk-toggleable__label-arrow:before {\n",
       "  content: \"▾\";\n",
       "}\n",
       "\n",
       "/* Pipeline/ColumnTransformer-specific style */\n",
       "\n",
       "#sk-container-id-3 div.sk-label input.sk-toggleable__control:checked~label.sk-toggleable__label {\n",
       "  color: var(--sklearn-color-text);\n",
       "  background-color: var(--sklearn-color-unfitted-level-2);\n",
       "}\n",
       "\n",
       "#sk-container-id-3 div.sk-label.fitted input.sk-toggleable__control:checked~label.sk-toggleable__label {\n",
       "  background-color: var(--sklearn-color-fitted-level-2);\n",
       "}\n",
       "\n",
       "/* Estimator-specific style */\n",
       "\n",
       "/* Colorize estimator box */\n",
       "#sk-container-id-3 div.sk-estimator input.sk-toggleable__control:checked~label.sk-toggleable__label {\n",
       "  /* unfitted */\n",
       "  background-color: var(--sklearn-color-unfitted-level-2);\n",
       "}\n",
       "\n",
       "#sk-container-id-3 div.sk-estimator.fitted input.sk-toggleable__control:checked~label.sk-toggleable__label {\n",
       "  /* fitted */\n",
       "  background-color: var(--sklearn-color-fitted-level-2);\n",
       "}\n",
       "\n",
       "#sk-container-id-3 div.sk-label label.sk-toggleable__label,\n",
       "#sk-container-id-3 div.sk-label label {\n",
       "  /* The background is the default theme color */\n",
       "  color: var(--sklearn-color-text-on-default-background);\n",
       "}\n",
       "\n",
       "/* On hover, darken the color of the background */\n",
       "#sk-container-id-3 div.sk-label:hover label.sk-toggleable__label {\n",
       "  color: var(--sklearn-color-text);\n",
       "  background-color: var(--sklearn-color-unfitted-level-2);\n",
       "}\n",
       "\n",
       "/* Label box, darken color on hover, fitted */\n",
       "#sk-container-id-3 div.sk-label.fitted:hover label.sk-toggleable__label.fitted {\n",
       "  color: var(--sklearn-color-text);\n",
       "  background-color: var(--sklearn-color-fitted-level-2);\n",
       "}\n",
       "\n",
       "/* Estimator label */\n",
       "\n",
       "#sk-container-id-3 div.sk-label label {\n",
       "  font-family: monospace;\n",
       "  font-weight: bold;\n",
       "  display: inline-block;\n",
       "  line-height: 1.2em;\n",
       "}\n",
       "\n",
       "#sk-container-id-3 div.sk-label-container {\n",
       "  text-align: center;\n",
       "}\n",
       "\n",
       "/* Estimator-specific */\n",
       "#sk-container-id-3 div.sk-estimator {\n",
       "  font-family: monospace;\n",
       "  border: 1px dotted var(--sklearn-color-border-box);\n",
       "  border-radius: 0.25em;\n",
       "  box-sizing: border-box;\n",
       "  margin-bottom: 0.5em;\n",
       "  /* unfitted */\n",
       "  background-color: var(--sklearn-color-unfitted-level-0);\n",
       "}\n",
       "\n",
       "#sk-container-id-3 div.sk-estimator.fitted {\n",
       "  /* fitted */\n",
       "  background-color: var(--sklearn-color-fitted-level-0);\n",
       "}\n",
       "\n",
       "/* on hover */\n",
       "#sk-container-id-3 div.sk-estimator:hover {\n",
       "  /* unfitted */\n",
       "  background-color: var(--sklearn-color-unfitted-level-2);\n",
       "}\n",
       "\n",
       "#sk-container-id-3 div.sk-estimator.fitted:hover {\n",
       "  /* fitted */\n",
       "  background-color: var(--sklearn-color-fitted-level-2);\n",
       "}\n",
       "\n",
       "/* Specification for estimator info (e.g. \"i\" and \"?\") */\n",
       "\n",
       "/* Common style for \"i\" and \"?\" */\n",
       "\n",
       ".sk-estimator-doc-link,\n",
       "a:link.sk-estimator-doc-link,\n",
       "a:visited.sk-estimator-doc-link {\n",
       "  float: right;\n",
       "  font-size: smaller;\n",
       "  line-height: 1em;\n",
       "  font-family: monospace;\n",
       "  background-color: var(--sklearn-color-background);\n",
       "  border-radius: 1em;\n",
       "  height: 1em;\n",
       "  width: 1em;\n",
       "  text-decoration: none !important;\n",
       "  margin-left: 1ex;\n",
       "  /* unfitted */\n",
       "  border: var(--sklearn-color-unfitted-level-1) 1pt solid;\n",
       "  color: var(--sklearn-color-unfitted-level-1);\n",
       "}\n",
       "\n",
       ".sk-estimator-doc-link.fitted,\n",
       "a:link.sk-estimator-doc-link.fitted,\n",
       "a:visited.sk-estimator-doc-link.fitted {\n",
       "  /* fitted */\n",
       "  border: var(--sklearn-color-fitted-level-1) 1pt solid;\n",
       "  color: var(--sklearn-color-fitted-level-1);\n",
       "}\n",
       "\n",
       "/* On hover */\n",
       "div.sk-estimator:hover .sk-estimator-doc-link:hover,\n",
       ".sk-estimator-doc-link:hover,\n",
       "div.sk-label-container:hover .sk-estimator-doc-link:hover,\n",
       ".sk-estimator-doc-link:hover {\n",
       "  /* unfitted */\n",
       "  background-color: var(--sklearn-color-unfitted-level-3);\n",
       "  color: var(--sklearn-color-background);\n",
       "  text-decoration: none;\n",
       "}\n",
       "\n",
       "div.sk-estimator.fitted:hover .sk-estimator-doc-link.fitted:hover,\n",
       ".sk-estimator-doc-link.fitted:hover,\n",
       "div.sk-label-container:hover .sk-estimator-doc-link.fitted:hover,\n",
       ".sk-estimator-doc-link.fitted:hover {\n",
       "  /* fitted */\n",
       "  background-color: var(--sklearn-color-fitted-level-3);\n",
       "  color: var(--sklearn-color-background);\n",
       "  text-decoration: none;\n",
       "}\n",
       "\n",
       "/* Span, style for the box shown on hovering the info icon */\n",
       ".sk-estimator-doc-link span {\n",
       "  display: none;\n",
       "  z-index: 9999;\n",
       "  position: relative;\n",
       "  font-weight: normal;\n",
       "  right: .2ex;\n",
       "  padding: .5ex;\n",
       "  margin: .5ex;\n",
       "  width: min-content;\n",
       "  min-width: 20ex;\n",
       "  max-width: 50ex;\n",
       "  color: var(--sklearn-color-text);\n",
       "  box-shadow: 2pt 2pt 4pt #999;\n",
       "  /* unfitted */\n",
       "  background: var(--sklearn-color-unfitted-level-0);\n",
       "  border: .5pt solid var(--sklearn-color-unfitted-level-3);\n",
       "}\n",
       "\n",
       ".sk-estimator-doc-link.fitted span {\n",
       "  /* fitted */\n",
       "  background: var(--sklearn-color-fitted-level-0);\n",
       "  border: var(--sklearn-color-fitted-level-3);\n",
       "}\n",
       "\n",
       ".sk-estimator-doc-link:hover span {\n",
       "  display: block;\n",
       "}\n",
       "\n",
       "/* \"?\"-specific style due to the `<a>` HTML tag */\n",
       "\n",
       "#sk-container-id-3 a.estimator_doc_link {\n",
       "  float: right;\n",
       "  font-size: 1rem;\n",
       "  line-height: 1em;\n",
       "  font-family: monospace;\n",
       "  background-color: var(--sklearn-color-background);\n",
       "  border-radius: 1rem;\n",
       "  height: 1rem;\n",
       "  width: 1rem;\n",
       "  text-decoration: none;\n",
       "  /* unfitted */\n",
       "  color: var(--sklearn-color-unfitted-level-1);\n",
       "  border: var(--sklearn-color-unfitted-level-1) 1pt solid;\n",
       "}\n",
       "\n",
       "#sk-container-id-3 a.estimator_doc_link.fitted {\n",
       "  /* fitted */\n",
       "  border: var(--sklearn-color-fitted-level-1) 1pt solid;\n",
       "  color: var(--sklearn-color-fitted-level-1);\n",
       "}\n",
       "\n",
       "/* On hover */\n",
       "#sk-container-id-3 a.estimator_doc_link:hover {\n",
       "  /* unfitted */\n",
       "  background-color: var(--sklearn-color-unfitted-level-3);\n",
       "  color: var(--sklearn-color-background);\n",
       "  text-decoration: none;\n",
       "}\n",
       "\n",
       "#sk-container-id-3 a.estimator_doc_link.fitted:hover {\n",
       "  /* fitted */\n",
       "  background-color: var(--sklearn-color-fitted-level-3);\n",
       "}\n",
       "</style><div id=\"sk-container-id-3\" class=\"sk-top-container\"><div class=\"sk-text-repr-fallback\"><pre>RandomForestClassifier()</pre><b>In a Jupyter environment, please rerun this cell to show the HTML representation or trust the notebook. <br />On GitHub, the HTML representation is unable to render, please try loading this page with nbviewer.org.</b></div><div class=\"sk-container\" hidden><div class=\"sk-item\"><div class=\"sk-estimator fitted sk-toggleable\"><input class=\"sk-toggleable__control sk-hidden--visually\" id=\"sk-estimator-id-5\" type=\"checkbox\" checked><label for=\"sk-estimator-id-5\" class=\"sk-toggleable__label fitted sk-toggleable__label-arrow fitted\">&nbsp;&nbsp;RandomForestClassifier<a class=\"sk-estimator-doc-link fitted\" rel=\"noreferrer\" target=\"_blank\" href=\"https://scikit-learn.org/1.4/modules/generated/sklearn.ensemble.RandomForestClassifier.html\">?<span>Documentation for RandomForestClassifier</span></a><span class=\"sk-estimator-doc-link fitted\">i<span>Fitted</span></span></label><div class=\"sk-toggleable__content fitted\"><pre>RandomForestClassifier()</pre></div> </div></div></div></div>"
      ],
      "text/plain": [
       "RandomForestClassifier()"
      ]
     },
     "execution_count": 65,
     "metadata": {},
     "output_type": "execute_result"
    }
   ],
   "source": [
    "model = RandomForestClassifier()\n",
    "model.fit(X_train, y_train)"
   ]
  },
  {
   "cell_type": "code",
   "execution_count": 66,
   "metadata": {},
   "outputs": [],
   "source": [
    "y_pred = model.predict(X_test)"
   ]
  },
  {
   "cell_type": "code",
   "execution_count": 67,
   "metadata": {},
   "outputs": [
    {
     "name": "stdout",
     "output_type": "stream",
     "text": [
      "Accuracy-Score: 1.00\n",
      "              precision    recall  f1-score   support\n",
      "\n",
      "           0       1.00      1.00      1.00      9802\n",
      "           1       1.00      1.00      1.00      9717\n",
      "\n",
      "    accuracy                           1.00     19519\n",
      "   macro avg       1.00      1.00      1.00     19519\n",
      "weighted avg       1.00      1.00      1.00     19519\n",
      "\n"
     ]
    }
   ],
   "source": [
    "from sklearn.metrics import accuracy_score, confusion_matrix, classification_report\n",
    "print(f'Accuracy-Score: {accuracy_score(y_test, y_pred):.2f}')\n",
    "print(classification_report(y_test, y_pred))"
   ]
  },
  {
   "cell_type": "code",
   "execution_count": 68,
   "metadata": {},
   "outputs": [
    {
     "data": {
      "image/png": "[encoded data removed]",
      "text/plain": [
       "<Figure size 800x600 with 1 Axes>"
      ]
     },
     "metadata": {},
     "output_type": "display_data"
    }
   ],
   "source": [
    "import seaborn as sns\n",
    "c_m = confusion_matrix(y_test, y_pred)\n",
    "plt.figure(figsize=(8,6))\n",
    "sns.heatmap(c_m, annot=True, linewidths=8.5 , fmt= '', cbar=False)\n",
    "plt.xlabel('Predicted Label')\n",
    "plt.ylabel('Truth Label')\n",
    "plt.show()"
   ]
  },
  {
   "cell_type": "code",
   "execution_count": 69,
   "metadata": {
    "tags": []
   },
   "outputs": [],
   "source": [
    "from joblib import dump, load"
   ]
  },
  {
   "cell_type": "code",
   "execution_count": 70,
   "metadata": {
    "tags": []
   },
   "outputs": [
    {
     "data": {
      "text/plain": [
       "['Randomforest.joblib']"
      ]
     },
     "execution_count": 70,
     "metadata": {},
     "output_type": "execute_result"
    }
   ],
   "source": [
    "dump(model, 'Randomforest.joblib')"
   ]
  },
  {
   "cell_type": "markdown",
   "metadata": {},
   "source": [
    "### Model Evaluation"
   ]
  },
  {
   "cell_type": "markdown",
   "metadata": {},
   "source": []
  }
 ],
 "metadata": {
  "kernelspec": {
   "display_name": "Python 3 (ipykernel)",
   "language": "python",
   "name": "python3"
  },
  "language_info": {
   "codemirror_mode": {
    "name": "ipython",
    "version": 3
   },
   "file_extension": ".py",
   "mimetype": "text/x-python",
   "name": "python",
   "nbconvert_exporter": "python",
   "pygments_lexer": "ipython3",
   "version": "3.11.4"
  }
 },
 "nbformat": 4,
 "nbformat_minor": 4
}
