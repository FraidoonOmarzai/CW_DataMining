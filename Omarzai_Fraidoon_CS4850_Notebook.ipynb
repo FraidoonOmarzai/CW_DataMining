{
 "cells": [
  {
   "cell_type": "markdown",
   "metadata": {},
   "source": [
    "### Import libraries"
   ]
  },
  {
   "cell_type": "code",
   "execution_count": 1,
   "metadata": {
    "tags": []
   },
   "outputs": [],
   "source": [
    "import numpy as np\n",
    "import pandas as pd\n",
    "import matplotlib.pyplot as plt\n",
    "import seaborn as sns\n"
   ]
  },
  {
   "cell_type": "markdown",
   "metadata": {},
   "source": [
    "### Data Loading and EDA"
   ]
  },
  {
   "cell_type": "code",
   "execution_count": 64,
   "metadata": {
    "tags": []
   },
   "outputs": [
    {
     "data": {
      "text/html": [
       "<div>\n",
       "<style scoped>\n",
       "    .dataframe tbody tr th:only-of-type {\n",
       "        vertical-align: middle;\n",
       "    }\n",
       "\n",
       "    .dataframe tbody tr th {\n",
       "        vertical-align: top;\n",
       "    }\n",
       "\n",
       "    .dataframe thead th {\n",
       "        text-align: right;\n",
       "    }\n",
       "</style>\n",
       "<table border=\"1\" class=\"dataframe\">\n",
       "  <thead>\n",
       "    <tr style=\"text-align: right;\">\n",
       "      <th></th>\n",
       "      <th>Info_PepID</th>\n",
       "      <th>Info_organism_id</th>\n",
       "      <th>Info_protein_id</th>\n",
       "      <th>Info_pos</th>\n",
       "      <th>Info_AA</th>\n",
       "      <th>Info_epitope_id</th>\n",
       "      <th>Info_nPos</th>\n",
       "      <th>Info_nNeg</th>\n",
       "      <th>Info_cluster</th>\n",
       "      <th>Class</th>\n",
       "      <th>...</th>\n",
       "      <th>feat_esm1b_1271</th>\n",
       "      <th>feat_esm1b_1272</th>\n",
       "      <th>feat_esm1b_1273</th>\n",
       "      <th>feat_esm1b_1274</th>\n",
       "      <th>feat_esm1b_1275</th>\n",
       "      <th>feat_esm1b_1276</th>\n",
       "      <th>feat_esm1b_1277</th>\n",
       "      <th>feat_esm1b_1278</th>\n",
       "      <th>feat_esm1b_1279</th>\n",
       "      <th>feat_esm1b_1280</th>\n",
       "    </tr>\n",
       "  </thead>\n",
       "  <tbody>\n",
       "    <tr>\n",
       "      <th>0</th>\n",
       "      <td>XP_809948.1:15</td>\n",
       "      <td>5693</td>\n",
       "      <td>XP_809948.1</td>\n",
       "      <td>218</td>\n",
       "      <td>E</td>\n",
       "      <td>276453</td>\n",
       "      <td>1</td>\n",
       "      <td>0</td>\n",
       "      <td>18</td>\n",
       "      <td>1</td>\n",
       "      <td>...</td>\n",
       "      <td>-0.177248</td>\n",
       "      <td>-0.275432</td>\n",
       "      <td>0.175780</td>\n",
       "      <td>-2.618115</td>\n",
       "      <td>-0.306478</td>\n",
       "      <td>0.248409</td>\n",
       "      <td>-0.144645</td>\n",
       "      <td>-0.163276</td>\n",
       "      <td>0.101016</td>\n",
       "      <td>0.571763</td>\n",
       "    </tr>\n",
       "    <tr>\n",
       "      <th>1</th>\n",
       "      <td>XP_809948.1:15</td>\n",
       "      <td>5693</td>\n",
       "      <td>XP_809948.1</td>\n",
       "      <td>219</td>\n",
       "      <td>E</td>\n",
       "      <td>276453</td>\n",
       "      <td>1</td>\n",
       "      <td>0</td>\n",
       "      <td>18</td>\n",
       "      <td>1</td>\n",
       "      <td>...</td>\n",
       "      <td>-0.089673</td>\n",
       "      <td>-0.258615</td>\n",
       "      <td>0.063662</td>\n",
       "      <td>-2.660741</td>\n",
       "      <td>-0.227916</td>\n",
       "      <td>0.233011</td>\n",
       "      <td>-0.143840</td>\n",
       "      <td>-0.119282</td>\n",
       "      <td>0.146848</td>\n",
       "      <td>0.507656</td>\n",
       "    </tr>\n",
       "    <tr>\n",
       "      <th>2</th>\n",
       "      <td>XP_809948.1:15</td>\n",
       "      <td>5693</td>\n",
       "      <td>XP_809948.1</td>\n",
       "      <td>220</td>\n",
       "      <td>D</td>\n",
       "      <td>276453</td>\n",
       "      <td>1</td>\n",
       "      <td>0</td>\n",
       "      <td>18</td>\n",
       "      <td>1</td>\n",
       "      <td>...</td>\n",
       "      <td>-0.037816</td>\n",
       "      <td>-0.205189</td>\n",
       "      <td>0.220458</td>\n",
       "      <td>-2.610207</td>\n",
       "      <td>-0.156326</td>\n",
       "      <td>0.231606</td>\n",
       "      <td>0.251916</td>\n",
       "      <td>0.077030</td>\n",
       "      <td>0.326192</td>\n",
       "      <td>0.071661</td>\n",
       "    </tr>\n",
       "    <tr>\n",
       "      <th>3</th>\n",
       "      <td>XP_809948.1:15</td>\n",
       "      <td>5693</td>\n",
       "      <td>XP_809948.1</td>\n",
       "      <td>221</td>\n",
       "      <td>N</td>\n",
       "      <td>276453</td>\n",
       "      <td>1</td>\n",
       "      <td>0</td>\n",
       "      <td>18</td>\n",
       "      <td>1</td>\n",
       "      <td>...</td>\n",
       "      <td>-0.249216</td>\n",
       "      <td>-0.211748</td>\n",
       "      <td>-0.130716</td>\n",
       "      <td>-2.598186</td>\n",
       "      <td>-0.130838</td>\n",
       "      <td>-0.026848</td>\n",
       "      <td>0.167203</td>\n",
       "      <td>-0.394126</td>\n",
       "      <td>0.222274</td>\n",
       "      <td>0.376358</td>\n",
       "    </tr>\n",
       "    <tr>\n",
       "      <th>4</th>\n",
       "      <td>XP_809948.1:15</td>\n",
       "      <td>5693</td>\n",
       "      <td>XP_809948.1</td>\n",
       "      <td>222</td>\n",
       "      <td>E</td>\n",
       "      <td>276453</td>\n",
       "      <td>1</td>\n",
       "      <td>0</td>\n",
       "      <td>18</td>\n",
       "      <td>1</td>\n",
       "      <td>...</td>\n",
       "      <td>-0.039318</td>\n",
       "      <td>-0.250912</td>\n",
       "      <td>-0.093870</td>\n",
       "      <td>-2.414023</td>\n",
       "      <td>-0.253500</td>\n",
       "      <td>0.118345</td>\n",
       "      <td>-0.160718</td>\n",
       "      <td>-0.076750</td>\n",
       "      <td>0.448067</td>\n",
       "      <td>0.326883</td>\n",
       "    </tr>\n",
       "  </tbody>\n",
       "</table>\n",
       "<p>5 rows × 1291 columns</p>\n",
       "</div>"
      ],
      "text/plain": [
       "       Info_PepID  Info_organism_id Info_protein_id  Info_pos Info_AA  \\\n",
       "0  XP_809948.1:15              5693     XP_809948.1       218       E   \n",
       "1  XP_809948.1:15              5693     XP_809948.1       219       E   \n",
       "2  XP_809948.1:15              5693     XP_809948.1       220       D   \n",
       "3  XP_809948.1:15              5693     XP_809948.1       221       N   \n",
       "4  XP_809948.1:15              5693     XP_809948.1       222       E   \n",
       "\n",
       "  Info_epitope_id Info_nPos Info_nNeg  Info_cluster  Class  ...  \\\n",
       "0          276453         1         0            18      1  ...   \n",
       "1          276453         1         0            18      1  ...   \n",
       "2          276453         1         0            18      1  ...   \n",
       "3          276453         1         0            18      1  ...   \n",
       "4          276453         1         0            18      1  ...   \n",
       "\n",
       "   feat_esm1b_1271  feat_esm1b_1272  feat_esm1b_1273  feat_esm1b_1274  \\\n",
       "0        -0.177248        -0.275432         0.175780        -2.618115   \n",
       "1        -0.089673        -0.258615         0.063662        -2.660741   \n",
       "2        -0.037816        -0.205189         0.220458        -2.610207   \n",
       "3        -0.249216        -0.211748        -0.130716        -2.598186   \n",
       "4        -0.039318        -0.250912        -0.093870        -2.414023   \n",
       "\n",
       "   feat_esm1b_1275  feat_esm1b_1276  feat_esm1b_1277  feat_esm1b_1278  \\\n",
       "0        -0.306478         0.248409        -0.144645        -0.163276   \n",
       "1        -0.227916         0.233011        -0.143840        -0.119282   \n",
       "2        -0.156326         0.231606         0.251916         0.077030   \n",
       "3        -0.130838        -0.026848         0.167203        -0.394126   \n",
       "4        -0.253500         0.118345        -0.160718        -0.076750   \n",
       "\n",
       "   feat_esm1b_1279  feat_esm1b_1280  \n",
       "0         0.101016         0.571763  \n",
       "1         0.146848         0.507656  \n",
       "2         0.326192         0.071661  \n",
       "3         0.222274         0.376358  \n",
       "4         0.448067         0.326883  \n",
       "\n",
       "[5 rows x 1291 columns]"
      ]
     },
     "execution_count": 64,
     "metadata": {},
     "output_type": "execute_result"
    }
   ],
   "source": [
    "df = pd.read_csv('df/df.csv', sep=';')\n",
    "df.head()"
   ]
  },
  {
   "cell_type": "code",
   "execution_count": 65,
   "metadata": {
    "tags": []
   },
   "outputs": [
    {
     "data": {
      "text/plain": [
       "Index(['Info_PepID', 'Info_organism_id', 'Info_protein_id', 'Info_pos',\n",
       "       'Info_AA', 'Info_epitope_id', 'Info_nPos', 'Info_nNeg', 'Info_cluster',\n",
       "       'Class',\n",
       "       ...\n",
       "       'feat_esm1b_1271', 'feat_esm1b_1272', 'feat_esm1b_1273',\n",
       "       'feat_esm1b_1274', 'feat_esm1b_1275', 'feat_esm1b_1276',\n",
       "       'feat_esm1b_1277', 'feat_esm1b_1278', 'feat_esm1b_1279',\n",
       "       'feat_esm1b_1280'],\n",
       "      dtype='object', length=1291)"
      ]
     },
     "execution_count": 65,
     "metadata": {},
     "output_type": "execute_result"
    }
   ],
   "source": [
    "## list all the columns\n",
    "df.columns"
   ]
  },
  {
   "cell_type": "code",
   "execution_count": 66,
   "metadata": {
    "tags": []
   },
   "outputs": [
    {
     "name": "stdout",
     "output_type": "stream",
     "text": [
      "<class 'pandas.core.frame.DataFrame'>\n",
      "RangeIndex: 49606 entries, 0 to 49605\n",
      "Columns: 1291 entries, Info_PepID to feat_esm1b_1280\n",
      "dtypes: float64(1281), int64(4), object(6)\n",
      "memory usage: 488.6+ MB\n"
     ]
    }
   ],
   "source": [
    "# check the info\n",
    "df.info()"
   ]
  },
  {
   "cell_type": "code",
   "execution_count": 67,
   "metadata": {
    "tags": []
   },
   "outputs": [
    {
     "data": {
      "text/plain": [
       "(49606, 1291)"
      ]
     },
     "execution_count": 67,
     "metadata": {},
     "output_type": "execute_result"
    }
   ],
   "source": [
    "df.shape"
   ]
  },
  {
   "cell_type": "code",
   "execution_count": 68,
   "metadata": {
    "tags": []
   },
   "outputs": [],
   "source": [
    "## remove ids columns, cause it is not important in model training\n",
    "ids_columns = ['Info_PepID', 'Info_organism_id', 'Info_protein_id','Info_epitope_id']\n",
    "df.drop(ids_columns, axis=1, inplace=True)"
   ]
  },
  {
   "cell_type": "code",
   "execution_count": 69,
   "metadata": {
    "tags": []
   },
   "outputs": [
    {
     "data": {
      "text/plain": [
       "(49606, 1287)"
      ]
     },
     "execution_count": 69,
     "metadata": {},
     "output_type": "execute_result"
    }
   ],
   "source": [
    "df.shape"
   ]
  },
  {
   "cell_type": "code",
   "execution_count": 70,
   "metadata": {
    "tags": []
   },
   "outputs": [
    {
     "data": {
      "text/plain": [
       "Info_pos            0\n",
       "Info_AA             0\n",
       "Info_nPos           0\n",
       "Info_nNeg           0\n",
       "Info_cluster        0\n",
       "                   ..\n",
       "feat_esm1b_1276    84\n",
       "feat_esm1b_1277    85\n",
       "feat_esm1b_1278    83\n",
       "feat_esm1b_1279    81\n",
       "feat_esm1b_1280    82\n",
       "Length: 1287, dtype: int64"
      ]
     },
     "execution_count": 70,
     "metadata": {},
     "output_type": "execute_result"
    }
   ],
   "source": [
    "# check for null values\n",
    "df.isnull().sum()"
   ]
  },
  {
   "cell_type": "code",
   "execution_count": 71,
   "metadata": {
    "tags": []
   },
   "outputs": [
    {
     "data": {
      "text/plain": [
       "Index(['feat_esm1b_0', 'feat_esm1b_1', 'feat_esm1b_2', 'feat_esm1b_3',\n",
       "       'feat_esm1b_4', 'feat_esm1b_5', 'feat_esm1b_6', 'feat_esm1b_7',\n",
       "       'feat_esm1b_8', 'feat_esm1b_9',\n",
       "       ...\n",
       "       'feat_esm1b_1271', 'feat_esm1b_1272', 'feat_esm1b_1273',\n",
       "       'feat_esm1b_1274', 'feat_esm1b_1275', 'feat_esm1b_1276',\n",
       "       'feat_esm1b_1277', 'feat_esm1b_1278', 'feat_esm1b_1279',\n",
       "       'feat_esm1b_1280'],\n",
       "      dtype='object', length=1281)"
      ]
     },
     "execution_count": 71,
     "metadata": {},
     "output_type": "execute_result"
    }
   ],
   "source": [
    "null_columns = df.columns[df.isnull().any()]\n",
    "null_columns"
   ]
  },
  {
   "cell_type": "code",
   "execution_count": 72,
   "metadata": {
    "tags": []
   },
   "outputs": [
    {
     "data": {
      "text/plain": [
       "81"
      ]
     },
     "execution_count": 72,
     "metadata": {},
     "output_type": "execute_result"
    }
   ],
   "source": [
    "df['feat_esm1b_285'].isnull().sum()"
   ]
  },
  {
   "cell_type": "code",
   "execution_count": 74,
   "metadata": {
    "tags": []
   },
   "outputs": [],
   "source": [
    "# # threshold\n",
    "# threshold = 50  # Adjust this to your desired threshold\n",
    "\n",
    "# # Count null values in each column\n",
    "# null_counts = df.isnull().sum()\n",
    "\n",
    "# # Filter columns with null values above the threshold\n",
    "# columns_above_threshold = null_counts[null_counts > threshold].index\n",
    "\n",
    "\n",
    "# # List columns with null values above the threshold\n",
    "# print(\"Columns with null values above\", threshold, \":\")\n",
    "# for col in columns_above_threshold:\n",
    "#     print(col)"
   ]
  },
  {
   "cell_type": "code",
   "execution_count": 77,
   "metadata": {
    "tags": []
   },
   "outputs": [
    {
     "data": {
      "text/plain": [
       "-1    48797\n",
       " 1      809\n",
       "Name: Class, dtype: int64"
      ]
     },
     "execution_count": 77,
     "metadata": {},
     "output_type": "execute_result"
    }
   ],
   "source": [
    "## Check the balance of the target feature\n",
    "df.Class.value_counts()"
   ]
  },
  {
   "cell_type": "code",
   "execution_count": 79,
   "metadata": {
    "tags": []
   },
   "outputs": [
    {
     "data": {
      "text/plain": [
       "Index(['Info_AA', 'Info_nPos', 'Info_nNeg'], dtype='object')"
      ]
     },
     "execution_count": 79,
     "metadata": {},
     "output_type": "execute_result"
    }
   ],
   "source": [
    "categorical_columns = df.select_dtypes(include=['object']).columns\n",
    "categorical_columns"
   ]
  },
  {
   "cell_type": "code",
   "execution_count": 84,
   "metadata": {
    "tags": []
   },
   "outputs": [
    {
     "data": {
      "text/plain": [
       "3"
      ]
     },
     "execution_count": 84,
     "metadata": {},
     "output_type": "execute_result"
    }
   ],
   "source": [
    "# list of numerical variables\n",
    "categorical_features = [feature for feature in df.columns if df[feature].dtypes == 'O']\n",
    "len(categorical_features)"
   ]
  },
  {
   "cell_type": "code",
   "execution_count": 89,
   "metadata": {
    "tags": []
   },
   "outputs": [
    {
     "data": {
      "text/plain": [
       "0              31940\n",
       "0,0            12672\n",
       "0,0,0           3317\n",
       "1                675\n",
       "0,0,0,0          674\n",
       "0,0,0,0,0         76\n",
       "1,1               63\n",
       "1,0               61\n",
       "0,1               35\n",
       "0,1,1             21\n",
       "1,1,1             18\n",
       "1,0,0             14\n",
       "1,1,1,2           10\n",
       "1,0,1              9\n",
       "1,1,0              6\n",
       "0,0,1              4\n",
       "0,0,0,0,0,0        3\n",
       "1,0,1,1,2          2\n",
       "1,0,1,1            2\n",
       "0,1,1,2            1\n",
       "1,1,2              1\n",
       "0,1,0,0            1\n",
       "0,1,2              1\n",
       "Name: Info_nPos, dtype: int64"
      ]
     },
     "execution_count": 89,
     "metadata": {},
     "output_type": "execute_result"
    }
   ],
   "source": [
    "df.Info_nPos.value_counts()"
   ]
  },
  {
   "cell_type": "code",
   "execution_count": 90,
   "metadata": {
    "tags": []
   },
   "outputs": [
    {
     "data": {
      "text/plain": [
       "1              31940\n",
       "1,1            12672\n",
       "1,1,1           3317\n",
       "0                675\n",
       "1,1,1,1          674\n",
       "1,1,1,1,1         76\n",
       "0,0               63\n",
       "0,1               61\n",
       "1,0               35\n",
       "1,0,0             22\n",
       "0,0,0             19\n",
       "0,1,1             14\n",
       "0,0,0,0           10\n",
       "0,1,0              9\n",
       "0,0,1              6\n",
       "1,1,0              4\n",
       "1,1,1,1,1,1        3\n",
       "0,1,0,0            2\n",
       "0,1,0,0,0          2\n",
       "1,0,0,0            1\n",
       "1,0,1,1            1\n",
       "Name: Info_nNeg, dtype: int64"
      ]
     },
     "execution_count": 90,
     "metadata": {},
     "output_type": "execute_result"
    }
   ],
   "source": [
    "df.Info_nNeg.value_counts()"
   ]
  },
  {
   "cell_type": "code",
   "execution_count": 85,
   "metadata": {
    "tags": []
   },
   "outputs": [
    {
     "data": {
      "text/html": [
       "<div>\n",
       "<style scoped>\n",
       "    .dataframe tbody tr th:only-of-type {\n",
       "        vertical-align: middle;\n",
       "    }\n",
       "\n",
       "    .dataframe tbody tr th {\n",
       "        vertical-align: top;\n",
       "    }\n",
       "\n",
       "    .dataframe thead th {\n",
       "        text-align: right;\n",
       "    }\n",
       "</style>\n",
       "<table border=\"1\" class=\"dataframe\">\n",
       "  <thead>\n",
       "    <tr style=\"text-align: right;\">\n",
       "      <th></th>\n",
       "      <th>Info_AA</th>\n",
       "      <th>Info_nPos</th>\n",
       "      <th>Info_nNeg</th>\n",
       "    </tr>\n",
       "  </thead>\n",
       "  <tbody>\n",
       "    <tr>\n",
       "      <th>0</th>\n",
       "      <td>E</td>\n",
       "      <td>1</td>\n",
       "      <td>0</td>\n",
       "    </tr>\n",
       "    <tr>\n",
       "      <th>1</th>\n",
       "      <td>E</td>\n",
       "      <td>1</td>\n",
       "      <td>0</td>\n",
       "    </tr>\n",
       "    <tr>\n",
       "      <th>2</th>\n",
       "      <td>D</td>\n",
       "      <td>1</td>\n",
       "      <td>0</td>\n",
       "    </tr>\n",
       "    <tr>\n",
       "      <th>3</th>\n",
       "      <td>N</td>\n",
       "      <td>1</td>\n",
       "      <td>0</td>\n",
       "    </tr>\n",
       "    <tr>\n",
       "      <th>4</th>\n",
       "      <td>E</td>\n",
       "      <td>1</td>\n",
       "      <td>0</td>\n",
       "    </tr>\n",
       "  </tbody>\n",
       "</table>\n",
       "</div>"
      ],
      "text/plain": [
       "  Info_AA Info_nPos Info_nNeg\n",
       "0       E         1         0\n",
       "1       E         1         0\n",
       "2       D         1         0\n",
       "3       N         1         0\n",
       "4       E         1         0"
      ]
     },
     "execution_count": 85,
     "metadata": {},
     "output_type": "execute_result"
    }
   ],
   "source": [
    "df[categorical_columns].head()"
   ]
  },
  {
   "cell_type": "code",
   "execution_count": 80,
   "metadata": {
    "tags": []
   },
   "outputs": [
    {
     "data": {
      "text/plain": [
       "Index(['Info_pos', 'Info_cluster', 'Class', 'feat_esm1b_0', 'feat_esm1b_1',\n",
       "       'feat_esm1b_2', 'feat_esm1b_3', 'feat_esm1b_4', 'feat_esm1b_5',\n",
       "       'feat_esm1b_6',\n",
       "       ...\n",
       "       'feat_esm1b_1271', 'feat_esm1b_1272', 'feat_esm1b_1273',\n",
       "       'feat_esm1b_1274', 'feat_esm1b_1275', 'feat_esm1b_1276',\n",
       "       'feat_esm1b_1277', 'feat_esm1b_1278', 'feat_esm1b_1279',\n",
       "       'feat_esm1b_1280'],\n",
       "      dtype='object', length=1284)"
      ]
     },
     "execution_count": 80,
     "metadata": {},
     "output_type": "execute_result"
    }
   ],
   "source": [
    "numerical_columns = df.select_dtypes(include=['int', 'float']).columns\n",
    "numerical_columns"
   ]
  },
  {
   "cell_type": "code",
   "execution_count": 83,
   "metadata": {
    "tags": []
   },
   "outputs": [
    {
     "data": {
      "text/plain": [
       "1284"
      ]
     },
     "execution_count": 83,
     "metadata": {},
     "output_type": "execute_result"
    }
   ],
   "source": [
    "# list of numerical variables\n",
    "numerical_features = [feature for feature in df.columns if df[feature].dtypes != 'O']\n",
    "len(numerical_features)"
   ]
  },
  {
   "cell_type": "code",
   "execution_count": null,
   "metadata": {},
   "outputs": [],
   "source": []
  },
  {
   "cell_type": "code",
   "execution_count": null,
   "metadata": {},
   "outputs": [],
   "source": []
  },
  {
   "cell_type": "code",
   "execution_count": null,
   "metadata": {},
   "outputs": [],
   "source": []
  },
  {
   "cell_type": "code",
   "execution_count": null,
   "metadata": {},
   "outputs": [],
   "source": []
  },
  {
   "cell_type": "code",
   "execution_count": null,
   "metadata": {},
   "outputs": [],
   "source": []
  },
  {
   "cell_type": "code",
   "execution_count": null,
   "metadata": {},
   "outputs": [],
   "source": []
  },
  {
   "cell_type": "code",
   "execution_count": null,
   "metadata": {},
   "outputs": [],
   "source": []
  },
  {
   "cell_type": "code",
   "execution_count": null,
   "metadata": {},
   "outputs": [],
   "source": []
  },
  {
   "cell_type": "code",
   "execution_count": null,
   "metadata": {},
   "outputs": [],
   "source": []
  },
  {
   "cell_type": "markdown",
   "metadata": {},
   "source": [
    "### Feature Engineering"
   ]
  },
  {
   "cell_type": "markdown",
   "metadata": {},
   "source": []
  },
  {
   "cell_type": "markdown",
   "metadata": {},
   "source": []
  },
  {
   "cell_type": "markdown",
   "metadata": {},
   "source": [
    "### Model Training"
   ]
  },
  {
   "cell_type": "markdown",
   "metadata": {},
   "source": []
  },
  {
   "cell_type": "markdown",
   "metadata": {},
   "source": [
    "### Model Evaluation"
   ]
  },
  {
   "cell_type": "markdown",
   "metadata": {},
   "source": []
  }
 ],
 "metadata": {
  "kernelspec": {
   "display_name": "Python 3 (ipykernel)",
   "language": "python",
   "name": "python3"
  },
  "language_info": {
   "codemirror_mode": {
    "name": "ipython",
    "version": 3
   },
   "file_extension": ".py",
   "mimetype": "text/x-python",
   "name": "python",
   "nbconvert_exporter": "python",
   "pygments_lexer": "ipython3",
   "version": "3.11.4"
  }
 },
 "nbformat": 4,
 "nbformat_minor": 4
}
