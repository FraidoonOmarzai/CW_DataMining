{
 "cells": [
  {
   "cell_type": "markdown",
   "metadata": {
    "id": "dhJxDq-nTqp5"
   },
   "source": [
    "# **CW title**\n",
    "#### Student: YOUR_NAME\n",
    "#### Student ID: YOUR_STUDENT_ID\n",
    "#### Programme: MSC CS/AI/AAI/DATAN/OTHER PROGRAMME"
   ]
  },
  {
   "cell_type": "markdown",
   "metadata": {
    "id": "2wUewdzfjwtN"
   },
   "source": [
    "## Brief summary of document\n",
    "This document describes the analysis of a dataset related to..."
   ]
  },
  {
   "cell_type": "markdown",
   "metadata": {
    "id": "reBjLsAPvGdc"
   },
   "source": [
    "## Exploratory Data Analysis and Data Pre-processing\n",
    "[_Add a short description of what is done + code blocks (with code comments as needed) related to initial loading of packages, of the data set, and your EDA + Pre-processing steps_]"
   ]
  },
  {
   "cell_type": "code",
   "execution_count": 1,
   "metadata": {
    "colab": {
     "base_uri": "https://localhost:8080/"
    },
    "id": "n5reJMi0k5Gc",
    "outputId": "35458fef-a6bf-44a5-94fb-976334f6e2b6"
   },
   "outputs": [],
   "source": [
    "# Pip install whatever needed\n"
   ]
  },
  {
   "cell_type": "code",
   "execution_count": 2,
   "metadata": {
    "id": "b3g7Q00yfI1o"
   },
   "outputs": [],
   "source": [
    "#import libraries\n",
    "import pandas as pd\n",
    "# import ..."
   ]
  },
  {
   "cell_type": "code",
   "execution_count": 3,
   "metadata": {
    "colab": {
     "base_uri": "https://localhost:8080/",
     "height": 371
    },
    "id": "P-4Qdhl8ftvD",
    "outputId": "e8120cb5-e8da-407b-9371-e6e1ba31ce5f"
   },
   "outputs": [],
   "source": [
    "# Load the dataset\n",
    "# df = pd.read_csv(...)"
   ]
  },
  {
   "cell_type": "code",
   "execution_count": 7,
   "metadata": {
    "colab": {
     "base_uri": "https://localhost:8080/"
    },
    "id": "jFrztf7D0Xgx",
    "outputId": "ecb2bfb1-007a-40f0-8d10-bde51eaeb404"
   },
   "outputs": [],
   "source": [
    "# Add code blocks performing your EDA and pre-processing, either sequentially or iteratively. \n",
    "# Only add the things that are relevant to the final version of your analysis - no need to describe \n",
    "# initial tests that ended up being discarded from your exploratoin or pre-processing\n",
    "# Make sure to show your graphical and/or statistical investigation of the main data aspects, such as: \n",
    "# data size, presence and structure of missing values, feature scales, class balance, etc.\n",
    "# Your choices of pre-processing steps should follow from what you find out in these exploratory analyses.\n",
    "#\n",
    "# This section is also where you should discuss your data splitting."
   ]
  },
  {
   "cell_type": "markdown",
   "metadata": {
    "id": "QZTsYwiL7Nvt"
   },
   "source": [
    "## Feature reduction\n",
    "[_Add your chosen strategy for dimensionality reduction - PCA, feature selection, etc - below. Add one or more code blocks (with comments as needed)_]"
   ]
  },
  {
   "cell_type": "code",
   "execution_count": 8,
   "metadata": {},
   "outputs": [],
   "source": [
    "# one or more code blocks"
   ]
  },
  {
   "cell_type": "markdown",
   "metadata": {
    "id": "r4lm5op5UN1D"
   },
   "source": [
    "## Addressing class imbalance\n",
    "[_If your chosen way to treat class imbalance was a pre-processing strategy such as under/over sampling or SMOTE, you can document it here. If it was a model-based strategy such as cost-based classification, you can document it together with your models_]"
   ]
  },
  {
   "cell_type": "code",
   "execution_count": 9,
   "metadata": {},
   "outputs": [],
   "source": [
    "# one or more code blocks"
   ]
  },
  {
   "cell_type": "markdown",
   "metadata": {
    "id": "NqdrKiy-dCQC"
   },
   "source": [
    "## Model fitting\n",
    "[_Add your code blocks below related to your modelling approach(es). If you tested multiple models before choosing a final one, show it in code blocks below. If your strategy to deal with imbalanced classes was a modelling one such as cost-sensitive classification, then show it here as well._]"
   ]
  },
  {
   "cell_type": "code",
   "execution_count": 11,
   "metadata": {
    "colab": {
     "base_uri": "https://localhost:8080/",
     "height": 527
    },
    "id": "xbLS5VMSS7nQ",
    "outputId": "111d6f3a-4019-44c1-9cfe-18e749fb5f5a"
   },
   "outputs": [],
   "source": [
    "# one or more code blocks"
   ]
  },
  {
   "cell_type": "markdown",
   "metadata": {
    "id": "AkwgMBtPf1j1"
   },
   "source": [
    "## Consolidate the Data Mining Pipeline \n",
    "[_Once you're satisfied with your pre-processing and modelling choices, you can incorporate it all into a pipeline. You may already have done it in your model exploration above, in which case you only need to describe your final chosen pipeline here. Hyperparameter tuning (of the model and/or the full pipeline) can also appear here._]"
   ]
  },
  {
   "cell_type": "code",
   "execution_count": null,
   "metadata": {},
   "outputs": [],
   "source": [
    "# one or more code blocks"
   ]
  },
  {
   "cell_type": "markdown",
   "metadata": {
    "id": "LL8gcj_uisoz"
   },
   "source": [
    "## Performance evaluation on test split\n",
    "[_Evaluate the performance of your final pipeline on the final test split. You can report many different performance metrics, but don't forget to report the main one (see the CW brief for details)_]"
   ]
  },
  {
   "cell_type": "code",
   "execution_count": 12,
   "metadata": {
    "colab": {
     "base_uri": "https://localhost:8080/",
     "height": 143
    },
    "id": "BIM6SYO_84Aw",
    "outputId": "34cf0ef3-46cd-4a9c-d906-7d9dba98195e"
   },
   "outputs": [],
   "source": [
    "# one or more code blocks"
   ]
  },
  {
   "cell_type": "markdown",
   "metadata": {
    "id": "cZgEHl1HFLki"
   },
   "source": [
    "## Generation of predictions on holdout set"
   ]
  },
  {
   "cell_type": "code",
   "execution_count": 13,
   "metadata": {},
   "outputs": [],
   "source": [
    "# load holdout data\n",
    "# Use your final pipeline to generate predictions\n",
    "# save predictions + relevant columns to CSV file (see CW brief for details)"
   ]
  },
  {
   "cell_type": "markdown",
   "metadata": {
    "id": "fB_qyQIvqwIp"
   },
   "source": [
    "## References\n",
    "[_If you cited any specific references in this doc, please add them here._]"
   ]
  },
  {
   "cell_type": "code",
   "execution_count": null,
   "metadata": {},
   "outputs": [],
   "source": []
  }
 ],
 "metadata": {
  "colab": {
   "provenance": [],
   "toc_visible": true
  },
  "kernelspec": {
   "display_name": "Python 3 (ipykernel)",
   "language": "python",
   "name": "python3"
  },
  "language_info": {
   "codemirror_mode": {
    "name": "ipython",
    "version": 3
   },
   "file_extension": ".py",
   "mimetype": "text/x-python",
   "name": "python",
   "nbconvert_exporter": "python",
   "pygments_lexer": "ipython3",
   "version": "3.11.4"
  }
 },
 "nbformat": 4,
 "nbformat_minor": 4
}
